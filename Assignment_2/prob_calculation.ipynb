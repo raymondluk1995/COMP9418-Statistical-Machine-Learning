{
 "cells": [
  {
   "cell_type": "markdown",
   "metadata": {},
   "source": [
    "# USE HMM network to inference \n",
    "\n",
    "1. Since max step =2, each room can generate a HMM with neibours room in previous time state and relevant sensors at current and all previous  time stamp.\n",
    "2. we use a binary situation for outcome space {0,1} \n",
    "3. Based on the network, we will learn P(X_1={0/1} | X ={0/1}}, note the state will determine the action directly\n",
    "4. Then we can inference B(X_t) by passage of time and observations Topic 8 from page 28\n"
   ]
  },
  {
   "cell_type": "code",
   "execution_count": 1,
   "metadata": {},
   "outputs": [],
   "source": [
    "from __future__ import division\n",
    "from __future__ import print_function\n",
    "\n",
    "# Allowed libraries \n",
    "import numpy as np\n",
    "import pandas as pd\n",
    "import scipy as sp\n",
    "import scipy.special\n",
    "import heapq as pq\n",
    "import matplotlib as mp\n",
    "import matplotlib.pyplot as plt\n",
    "import math\n",
    "from itertools import product, combinations\n",
    "from collections import OrderedDict as odict\n",
    "import collections\n",
    "from graphviz import Digraph, Graph\n",
    "from tabulate import tabulate\n",
    "import copy\n",
    "import sys\n",
    "import os\n",
    "import datetime\n",
    "import sklearn\n",
    "import ast\n",
    "import re"
   ]
  },
  {
   "cell_type": "code",
   "execution_count": 2,
   "metadata": {},
   "outputs": [],
   "source": [
    "data = pd.read_csv(\"data.csv\")"
   ]
  },
  {
   "cell_type": "code",
   "execution_count": 3,
   "metadata": {
    "scrolled": false
   },
   "outputs": [
    {
     "data": {
      "text/plain": [
       "Index(['Unnamed: 0', 'reliable_sensor1', 'reliable_sensor2',\n",
       "       'reliable_sensor3', 'reliable_sensor4', 'unreliable_sensor1',\n",
       "       'unreliable_sensor2', 'unreliable_sensor3', 'unreliable_sensor4',\n",
       "       'robot1', 'robot2', 'door_sensor1', 'door_sensor2', 'door_sensor3',\n",
       "       'door_sensor4', 'time', 'electricity_price', 'r1', 'r2', 'r3', 'r4',\n",
       "       'r5', 'r6', 'r7', 'r8', 'r9', 'r10', 'r11', 'r12', 'r13', 'r14', 'r15',\n",
       "       'r16', 'r17', 'r18', 'r19', 'r20', 'r21', 'r22', 'r23', 'r24', 'r25',\n",
       "       'r26', 'r27', 'r28', 'r29', 'r30', 'r31', 'r32', 'r33', 'r34', 'r35',\n",
       "       'c1', 'c2', 'c3', 'c4', 'o1', 'outside'],\n",
       "      dtype='object')"
      ]
     },
     "execution_count": 3,
     "metadata": {},
     "output_type": "execute_result"
    }
   ],
   "source": [
    "data.columns"
   ]
  },
  {
   "cell_type": "code",
   "execution_count": 4,
   "metadata": {},
   "outputs": [],
   "source": [
    "data_copy = copy.deepcopy(data)"
   ]
  },
  {
   "cell_type": "code",
   "execution_count": 5,
   "metadata": {},
   "outputs": [],
   "source": [
    "MAP = {\n",
    "    \"r1\":[\"r2\",\"r3\"],\n",
    "    \"r2\":[\"r1\",\"r4\"],\n",
    "    \"r3\":[\"r1\",\"r7\"],\n",
    "    \"r4\":[\"r2\",\"r8\"],\n",
    "    \"r5\":[\"r6\",\"r9\",\"c3\"],\n",
    "    \"r6\":[\"r5\",\"c3\"],\n",
    "    \"r7\":[\"r3\",\"c1\"],\n",
    "    \"r8\":[\"r4\",\"r9\"],\n",
    "    \"r9\":[\"r5\",\"r8\",\"r13\"],\n",
    "    \"r10\":[\"c3\"],\n",
    "    \"r11\":[\"c3\"],\n",
    "    \"r12\":[\"outside\",\"r22\"],\n",
    "    \"r13\":[\"r9\",\"r24\"],\n",
    "    \"r14\":[\"r24\"],\n",
    "    \"r15\":[\"c3\"],\n",
    "    \"r16\":[\"c3\"],\n",
    "    \"r17\":[\"c3\"],\n",
    "    \"r18\":[\"c3\"],\n",
    "    \"r19\":[\"c3\"],\n",
    "    \"r20\":[\"c3\"],\n",
    "    \"r21\":[\"c3\"],\n",
    "    \"r22\":[\"r12\",\"r25\"],\n",
    "    \"r23\":[\"r24\"],\n",
    "    \"r24\":[\"r13\",\"r14\",\"r23\"],\n",
    "    \"r25\":[\"r22\",\"r26\",\"c1\"],\n",
    "    \"r26\":[\"r25\",\"r27\"],\n",
    "    \"r27\":[\"r26\",\"r32\"],\n",
    "    \"r28\":[\"c4\"],\n",
    "    \"r29\":[\"c4\",\"r30\"],\n",
    "    \"r30\":[\"r29\"],\n",
    "    \"r31\":[\"r32\"],\n",
    "    \"r32\":[\"r27\",\"r31\",\"r33\"],\n",
    "    \"r33\":[\"r32\"],\n",
    "    \"r34\":[\"c2\"],\n",
    "    \"r35\":[\"c4\"],\n",
    "    \"c1\":[\"r7\",\"r25\",\"c2\"],\n",
    "    \"c2\":[\"c1\",\"r34\",\"c4\"],\n",
    "    \"c3\": [\"r5\",\"r6\",\"r10\",\"r11\",\"r15\",\"r16\",\"r17\",\"r18\",\"r19\",\"r20\",\"r21\",\"o1\"],\n",
    "    \"c4\":[\"r29\",\"c2\",\"r35\",\"r28\",\"o1\"],\n",
    "    \"o1\":[\"c3\",\"c4\"],\n",
    "    \"outside\":[\"r12\"]  \n",
    "}\n",
    "censor_dict =  {\n",
    "    \"r1\": \"us3\", #us for unreliable_sensor\n",
    "    \"r5\": \"rs2\" ,#rs for reliable_sensor\n",
    "    \"r8\": \"ds1\", #ds for door sensor\n",
    "    \"r9\": \"ds1\",\n",
    "    \"r16\": \"rs1\",\n",
    "    \"r24\" : \"us4\",\n",
    "    \"r25\" : \"rs3\",\n",
    "    \"r26\" : \"ds3\", \n",
    "    \"r27\" : \"ds3\",\n",
    "    \"r31\" : \"rs4\",\n",
    "    \"r35\" : \"ds4\",\n",
    "    \"c1\" : \"ds2\",\n",
    "    \"c2\" : \"ds2\",\n",
    "    \"c3\" : \"us2\",\n",
    "    \"c4\" : \"ds4\",\n",
    "    \"o1\" : \"us1\"\n",
    "}\n",
    "\n"
   ]
  },
  {
   "cell_type": "code",
   "execution_count": 6,
   "metadata": {},
   "outputs": [],
   "source": [
    "def censor_abb_convert(censor_abb):\n",
    "    if censor_abb[0] == 'u':\n",
    "        full_name = \"unreliable_sensor\"+censor_abb[-1]\n",
    "    elif censor_abb[0] == 'r':\n",
    "        full_name = \"reliable_sensor\"+censor_abb[-1]\n",
    "    else:\n",
    "        full_name = \"door_sensor\"+censor_abb[-1]\n",
    "    return(full_name)"
   ]
  },
  {
   "cell_type": "code",
   "execution_count": 7,
   "metadata": {},
   "outputs": [
    {
     "data": {
      "text/plain": [
       "'unreliable_sensor3'"
      ]
     },
     "execution_count": 7,
     "metadata": {},
     "output_type": "execute_result"
    }
   ],
   "source": [
    "censor_abb_convert('us3')"
   ]
  },
  {
   "cell_type": "code",
   "execution_count": 8,
   "metadata": {},
   "outputs": [],
   "source": [
    "def n_step_neighbour(node,n,G):\n",
    "    neighbour_list = []\n",
    "    neighbour_list = neighbour_list + G[node]\n",
    "    while n > 1:\n",
    "        for new_node in neighbour_list:\n",
    "            neighbour_list = neighbour_list+ G[new_node]\n",
    "        n = n -1 \n",
    "    n_list = list(set(neighbour_list))\n",
    "    n_list.remove(node)\n",
    "    return(n_list)"
   ]
  },
  {
   "cell_type": "code",
   "execution_count": 9,
   "metadata": {},
   "outputs": [
    {
     "data": {
      "text/plain": [
       "['r1', 'r4', 'r3', 'r8']"
      ]
     },
     "execution_count": 9,
     "metadata": {},
     "output_type": "execute_result"
    }
   ],
   "source": [
    "n_step_neighbour('r2',2,MAP)"
   ]
  },
  {
   "cell_type": "code",
   "execution_count": 10,
   "metadata": {},
   "outputs": [],
   "source": [
    "def generate_HMM(node,G,censors):\n",
    "    HMM = {}\n",
    "    curr_node = \"current_\" + node\n",
    "    node_neighbour = n_step_neighbour(node,2,G)\n",
    "    HMM = {i:[curr_node] for i in node_neighbour}\n",
    "    HMM[node] = [curr_node]\n",
    "    \n",
    "    related_censor = [censors.get(node)] + [censors.get(i) for i in node_neighbour]\n",
    "    related_censor = [x for x in related_censor  if x is not None]\n",
    "    \n",
    "    for i in related_censor:\n",
    "        if i[0] ==\"d\":\n",
    "            if sum([censor == i for censor in related_censor]) < 2:\n",
    "                related_censor.remove(i) #drop door censor when you only at one side\n",
    "    \n",
    "    \n",
    "    \n",
    "    HMM[curr_node] = list(set(related_censor))\n",
    "    for censor_evi in related_censor: \n",
    "        HMM[censor_evi] = []\n",
    "    \n",
    "    return(HMM)\n",
    "    \n",
    "    \n",
    "#def learn_prob(G,data):\n",
    "    "
   ]
  },
  {
   "cell_type": "code",
   "execution_count": 11,
   "metadata": {},
   "outputs": [
    {
     "data": {
      "text/plain": [
       "{'r12': ['current_r25'],\n",
       " 'r26': ['current_r25'],\n",
       " 'c1': ['current_r25'],\n",
       " 'r22': ['current_r25'],\n",
       " 'r7': ['current_r25'],\n",
       " 'c2': ['current_r25'],\n",
       " 'r27': ['current_r25'],\n",
       " 'r25': ['current_r25'],\n",
       " 'current_r25': ['ds3', 'rs3', 'ds2'],\n",
       " 'rs3': [],\n",
       " 'ds3': [],\n",
       " 'ds2': []}"
      ]
     },
     "execution_count": 11,
     "metadata": {},
     "output_type": "execute_result"
    }
   ],
   "source": [
    "generate_HMM('r25',MAP,censor_dict)\n"
   ]
  },
  {
   "cell_type": "code",
   "execution_count": 12,
   "metadata": {},
   "outputs": [],
   "source": [
    "def learn_tranisition(curr_node,pre_node,data):\n",
    "    new_df = pd.DataFrame()\n",
    "    new_df['curr'] = data[curr_node][1:]\n",
    "    new_df['pre'] = data[pre_node].shift(1)[:-1]\n",
    "    \n",
    "    \n",
    "    prob_ct = pd.crosstab(new_df['pre'] > 0 , new_df['curr'] > 0, normalize = \"index\")\n",
    "    \n",
    "    tran_table = odict()\n",
    "    \n",
    "    tran_table[(1,1)] = prob_ct.loc[True,True] # p(current = 1 | previous = 1)\n",
    "    tran_table[(1,0)] = prob_ct.loc[True,False]\n",
    "    tran_table[(0,1)] =prob_ct.loc[False,True]# p(current = 1 | previous = 0)\n",
    "    tran_table[(0,0)] =  prob_ct.loc[False,False]\n",
    "    \n",
    "    \n",
    "    return ({'dom': (pre_node,curr_node), 'table':tran_table})\n",
    "\n",
    "def learn_censor_prob(node, censor, data):\n",
    "    \n",
    "    prob_ct = pd.crosstab(data[node] > 0 , data[censor] == \"motion\", normalize = \"index\")\n",
    "    \n",
    "    tran_table = odict()\n",
    "    \n",
    "    tran_table[(1,1)] = prob_ct.loc[True,True] # p(current = 1 | previous = 1)\n",
    "    tran_table[(1,0)] = prob_ct.loc[True,False]\n",
    "    tran_table[(0,1)] =prob_ct.loc[False,True]# p(current = 1 | previous = 0)\n",
    "    tran_table[(0,0)] =  prob_ct.loc[False,False]\n",
    "    \n",
    "    return ({'dom': (node,censor), 'table':tran_table})"
   ]
  },
  {
   "cell_type": "code",
   "execution_count": 31,
   "metadata": {
    "scrolled": false
   },
   "outputs": [
    {
     "data": {
      "text/plain": [
       "{'dom': ('r3', 'r1'),\n",
       " 'table': OrderedDict([((1, 1), 0.5434380776340111),\n",
       "              ((1, 0), 0.4565619223659889),\n",
       "              ((0, 1), 0.58649468892261),\n",
       "              ((0, 0), 0.41350531107738997)])}"
      ]
     },
     "execution_count": 31,
     "metadata": {},
     "output_type": "execute_result"
    }
   ],
   "source": [
    "learn_tranisition('r1','r3',data)"
   ]
  },
  {
   "cell_type": "code",
   "execution_count": 12,
   "metadata": {
    "scrolled": false
   },
   "outputs": [
    {
     "data": {
      "text/plain": [
       "{'dom': ('r25', 'reliable_sensor3'),\n",
       " 'table': OrderedDict([((1, 1), 0.9568261376896149),\n",
       "              ((1, 0), 0.043173862310385065),\n",
       "              ((0, 1), 0.03367875647668394),\n",
       "              ((0, 0), 0.966321243523316)])}"
      ]
     },
     "execution_count": 12,
     "metadata": {},
     "output_type": "execute_result"
    }
   ],
   "source": [
    "learn_censor_prob('r25','reliable_sensor3',data)"
   ]
  },
  {
   "cell_type": "code",
   "execution_count": 18,
   "metadata": {},
   "outputs": [],
   "source": [
    "rows_list = []\n",
    "for rooms in MAP.keys():\n",
    "    room_neighbour = n_step_neighbour(rooms,2,MAP)\n",
    "    room_neighbour.append(rooms)\n",
    "    for neighbours in room_neighbour:\n",
    "        tran_prob = learn_tranisition(rooms,neighbours,data)\n",
    "        row_dict= {}\n",
    "        row_dict['previous_room'] = neighbours\n",
    "        row_dict['current_room'] = rooms\n",
    "        row_dict.update(dict(tran_prob['table']))\n",
    "        rows_list.append(row_dict)\n",
    "    \n",
    "prob_df = pd.DataFrame(rows_list) #calculate all probabilities between rooms \n",
    "\n",
    "\n"
   ]
  },
  {
   "cell_type": "code",
   "execution_count": 14,
   "metadata": {},
   "outputs": [
    {
     "data": {
      "text/plain": [
       "['r4',\n",
       " 'r25',\n",
       " 'r12',\n",
       " 'r18',\n",
       " 'r19',\n",
       " 'r34',\n",
       " 'r6',\n",
       " 'r35',\n",
       " 'r7',\n",
       " 'c3',\n",
       " 'r24',\n",
       " 'r15',\n",
       " 'r23',\n",
       " 'r27',\n",
       " 'r32',\n",
       " 'r1',\n",
       " 'r5',\n",
       " 'r10',\n",
       " 'r31',\n",
       " 'r26',\n",
       " 'r28',\n",
       " 'r8',\n",
       " 'r9',\n",
       " 'r17',\n",
       " 'r3',\n",
       " 'r33',\n",
       " 'r30',\n",
       " 'r29',\n",
       " 'r13',\n",
       " 'r21',\n",
       " 'r20',\n",
       " 'c2',\n",
       " 'r16',\n",
       " 'r11',\n",
       " 'c4',\n",
       " 'r2',\n",
       " 'outside',\n",
       " 'r14',\n",
       " 'r22',\n",
       " 'c1',\n",
       " 'o1']"
      ]
     },
     "execution_count": 14,
     "metadata": {},
     "output_type": "execute_result"
    }
   ],
   "source": [
    "list(set(list(prob_df['current_room'])))"
   ]
  },
  {
   "cell_type": "code",
   "execution_count": 19,
   "metadata": {
    "scrolled": false
   },
   "outputs": [],
   "source": [
    "prob_df.head()\n",
    "prob_df.to_csv(\"rooms_tran3.csv\")"
   ]
  },
  {
   "cell_type": "code",
   "execution_count": 16,
   "metadata": {},
   "outputs": [],
   "source": [
    "censor_row_list = []\n",
    "for rooms in MAP.keys():\n",
    "    neighbour_map = generate_HMM(rooms,MAP,censor_dict)\n",
    "    current_node = \"current_\" + rooms\n",
    "    censor_list = neighbour_map[current_node]\n",
    "    for censor in censor_list:\n",
    "        if censor[0] == 'd':\n",
    "            continue\n",
    "        censor_full = censor_abb_convert(censor)\n",
    "        censor_prob = learn_censor_prob(rooms,censor_full,data)\n",
    "        row_dict ={}\n",
    "        row_dict['room'] = rooms\n",
    "        row_dict['censor'] = censor_full\n",
    "        row_dict.update(dict(censor_prob['table']))\n",
    "        censor_row_list.append(row_dict)\n",
    "        \n",
    "censor_df = pd.DataFrame(censor_row_list)"
   ]
  },
  {
   "cell_type": "code",
   "execution_count": 17,
   "metadata": {},
   "outputs": [],
   "source": [
    "censor_df.head()#door censor is not included yet because learn_censor_prob can not handle number \n",
    "censor_df.to_csv('censor_prob2.csv')"
   ]
  },
  {
   "cell_type": "code",
   "execution_count": null,
   "metadata": {},
   "outputs": [],
   "source": []
  },
  {
   "cell_type": "markdown",
   "metadata": {},
   "source": [
    "For one room:\n",
    "    1. generate the network \n",
    "    2. Assign the conditional prob (factor tables) \n",
    "    3. Find P(X=1| other nodes, e) and P(X=0| other nodes, e) by HMM algorithm;\n",
    "    4. Make decicions (threshold) \n",
    " \n",
    "Entire inference process: \n",
    "    1. calculate all the probabilities \n",
    "    2. For t = 1, ... T: \n",
    "        a. Do inference for each room\n",
    "        b. Store the decision \n",
    "        c. move to next timestep \n",
    "             \n",
    "  \n",
    "  "
   ]
  },
  {
   "cell_type": "code",
   "execution_count": 148,
   "metadata": {},
   "outputs": [],
   "source": []
  },
  {
   "cell_type": "code",
   "execution_count": null,
   "metadata": {},
   "outputs": [],
   "source": []
  },
  {
   "cell_type": "code",
   "execution_count": null,
   "metadata": {},
   "outputs": [],
   "source": []
  },
  {
   "cell_type": "code",
   "execution_count": null,
   "metadata": {},
   "outputs": [],
   "source": []
  },
  {
   "cell_type": "code",
   "execution_count": null,
   "metadata": {},
   "outputs": [],
   "source": []
  }
 ],
 "metadata": {
  "kernelspec": {
   "display_name": "Python 3",
   "language": "python",
   "name": "python3"
  },
  "language_info": {
   "codemirror_mode": {
    "name": "ipython",
    "version": 3
   },
   "file_extension": ".py",
   "mimetype": "text/x-python",
   "name": "python",
   "nbconvert_exporter": "python",
   "pygments_lexer": "ipython3",
   "version": "3.7.3"
  }
 },
 "nbformat": 4,
 "nbformat_minor": 4
}
