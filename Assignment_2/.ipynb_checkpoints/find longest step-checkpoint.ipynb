{
 "cells": [
  {
   "cell_type": "code",
   "execution_count": 1,
   "metadata": {},
   "outputs": [],
   "source": [
    "from __future__ import division\n",
    "from __future__ import print_function\n",
    "\n",
    "# Allowed libraries \n",
    "import numpy as np\n",
    "import pandas as pd\n",
    "import scipy as sp\n",
    "import scipy.special\n",
    "import heapq as pq\n",
    "import matplotlib as mp\n",
    "import matplotlib.pyplot as plt\n",
    "import math\n",
    "from itertools import product, combinations\n",
    "from collections import OrderedDict as odict\n",
    "import collections\n",
    "from graphviz import Digraph, Graph\n",
    "from tabulate import tabulate\n",
    "import copy\n",
    "import sys\n",
    "import os\n",
    "import datetime\n",
    "import sklearn\n",
    "import ast\n",
    "import re"
   ]
  },
  {
   "cell_type": "code",
   "execution_count": 2,
   "metadata": {},
   "outputs": [],
   "source": [
    "data = pd.read_csv(\"data.csv\")"
   ]
  },
  {
   "cell_type": "code",
   "execution_count": 4,
   "metadata": {},
   "outputs": [
    {
     "data": {
      "text/plain": [
       "Index(['Unnamed: 0', 'reliable_sensor1', 'reliable_sensor2',\n",
       "       'reliable_sensor3', 'reliable_sensor4', 'unreliable_sensor1',\n",
       "       'unreliable_sensor2', 'unreliable_sensor3', 'unreliable_sensor4',\n",
       "       'robot1', 'robot2', 'door_sensor1', 'door_sensor2', 'door_sensor3',\n",
       "       'door_sensor4', 'time', 'electricity_price', 'r1', 'r2', 'r3', 'r4',\n",
       "       'r5', 'r6', 'r7', 'r8', 'r9', 'r10', 'r11', 'r12', 'r13', 'r14', 'r15',\n",
       "       'r16', 'r17', 'r18', 'r19', 'r20', 'r21', 'r22', 'r23', 'r24', 'r25',\n",
       "       'r26', 'r27', 'r28', 'r29', 'r30', 'r31', 'r32', 'r33', 'r34', 'r35',\n",
       "       'c1', 'c2', 'c3', 'c4', 'o1', 'outside'],\n",
       "      dtype='object')"
      ]
     },
     "execution_count": 4,
     "metadata": {},
     "output_type": "execute_result"
    }
   ],
   "source": [
    "data.columns"
   ]
  },
  {
   "cell_type": "code",
   "execution_count": 9,
   "metadata": {},
   "outputs": [],
   "source": [
    "MAP = {\n",
    "    \"r1\":[\"r2\",\"r3\"],\n",
    "    \"r2\":[\"r1\",\"r4\"],\n",
    "    \"r3\":[\"r1\",\"r7\"],\n",
    "    \"r4\":[\"r2\",\"r8\"],\n",
    "    \"r5\":[\"r6\",\"r9\",\"c3\"],\n",
    "    \"r6\":[\"r5\",\"c3\"],\n",
    "    \"r7\":[\"r3\",\"c1\"],\n",
    "    \"r8\":[\"r4\",\"r9\"],\n",
    "    \"r9\":[\"r5\",\"r8\",\"r13\"],\n",
    "    \"r10\":[\"c3\"],\n",
    "    \"r11\":[\"c3\"],\n",
    "    \"r12\":[\"outside\",\"r22\"],\n",
    "    \"r13\":[\"r9\",\"r24\"],\n",
    "    \"r14\":[\"r24\"],\n",
    "    \"r15\":[\"c3\"],\n",
    "    \"r16\":[\"c3\"],\n",
    "    \"r17\":[\"c3\"],\n",
    "    \"r18\":[\"c3\"],\n",
    "    \"r19\":[\"c3\"],\n",
    "    \"r20\":[\"c3\"],\n",
    "    \"r21\":[\"c3\"],\n",
    "    \"r22\":[\"r12\",\"r25\"],\n",
    "    \"r23\":[\"r24\"],\n",
    "    \"r24\":[\"r13\",\"r14\",\"r23\"],\n",
    "    \"r25\":[\"r22\",\"r26\",\"c1\"],\n",
    "    \"r26\":[\"r25\",\"r27\"],\n",
    "    \"r27\":[\"r26\",\"r32\"],\n",
    "    \"r28\":[\"c4\"],\n",
    "    \"r29\":[\"c4\",\"r30\"],\n",
    "    \"r30\":[\"r29\"],\n",
    "    \"r31\":[\"r32\"],\n",
    "    \"r32\":[\"r27\",\"r31\",\"r33\"],\n",
    "    \"r33\":[\"r32\"],\n",
    "    \"r34\":[\"c2\"],\n",
    "    \"r35\":[\"c4\"],\n",
    "    \"c1\":[\"r7\",\"r25\",\"c2\"],\n",
    "    \"c2\":[\"c1\",\"r34\",\"c4\"],\n",
    "    \"c3\": [\"r5\",\"r6\",\"r10\",\"r11\",\"r15\",\"r16\",\"r17\",\"r18\",\"r19\",\"r20\",\"r21\",\"o1\"],\n",
    "    \"c4\":[\"r29\",\"c2\",\"r35\",\"r28\",\"o1\"],\n",
    "    \"o1\":[\"c3\",\"c4\"],\n",
    "    \"outside\":[\"r12\"]  \n",
    "}"
   ]
  },
  {
   "cell_type": "code",
   "execution_count": null,
   "metadata": {},
   "outputs": [],
   "source": []
  }
 ],
 "metadata": {
  "kernelspec": {
   "display_name": "Python 3.8 (XPython)",
   "language": "python",
   "name": "xpython"
  },
  "language_info": {
   "file_extension": ".py",
   "mimetype": "text/x-python",
   "name": "python",
   "version": "3.8.6"
  }
 },
 "nbformat": 4,
 "nbformat_minor": 4
}
