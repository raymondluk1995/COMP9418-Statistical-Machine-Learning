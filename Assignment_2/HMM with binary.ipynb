{
 "cells": [
  {
   "cell_type": "markdown",
   "metadata": {},
   "source": [
    "# USE HMM network to inference \n",
    "\n",
    "1. Since max step =2, each room can generate a HMM with neibours room in previous time state and relevant sensors at current and all previous  time stamp.\n",
    "2. we use a binary situation for outcome space {0,1} \n",
    "3. Based on the network, we will learn P(X_1={0/1} | X ={0/1}}, note the state will determine the action directly\n",
    "4. Then we can inference B(X_t) by passage of time and observations Topic 8 from page 28\n"
   ]
  },
  {
   "cell_type": "code",
   "execution_count": 1,
   "metadata": {},
   "outputs": [],
   "source": [
    "from __future__ import division\n",
    "from __future__ import print_function\n",
    "\n",
    "# Allowed libraries \n",
    "import numpy as np\n",
    "import pandas as pd\n",
    "import scipy as sp\n",
    "import scipy.special\n",
    "import heapq as pq\n",
    "import matplotlib as mp\n",
    "import matplotlib.pyplot as plt\n",
    "import math\n",
    "from itertools import product, combinations\n",
    "from collections import OrderedDict as odict\n",
    "import collections\n",
    "from graphviz import Digraph, Graph\n",
    "from tabulate import tabulate\n",
    "import copy\n",
    "import sys\n",
    "import os\n",
    "import datetime\n",
    "import sklearn\n",
    "import ast\n",
    "import re"
   ]
  },
  {
   "cell_type": "code",
   "execution_count": 2,
   "metadata": {},
   "outputs": [],
   "source": [
    "data = pd.read_csv(\"data.csv\")"
   ]
  },
  {
   "cell_type": "code",
   "execution_count": 3,
   "metadata": {
    "scrolled": false
   },
   "outputs": [
    {
     "data": {
      "text/plain": [
       "Index(['Unnamed: 0', 'reliable_sensor1', 'reliable_sensor2',\n",
       "       'reliable_sensor3', 'reliable_sensor4', 'unreliable_sensor1',\n",
       "       'unreliable_sensor2', 'unreliable_sensor3', 'unreliable_sensor4',\n",
       "       'robot1', 'robot2', 'door_sensor1', 'door_sensor2', 'door_sensor3',\n",
       "       'door_sensor4', 'time', 'electricity_price', 'r1', 'r2', 'r3', 'r4',\n",
       "       'r5', 'r6', 'r7', 'r8', 'r9', 'r10', 'r11', 'r12', 'r13', 'r14', 'r15',\n",
       "       'r16', 'r17', 'r18', 'r19', 'r20', 'r21', 'r22', 'r23', 'r24', 'r25',\n",
       "       'r26', 'r27', 'r28', 'r29', 'r30', 'r31', 'r32', 'r33', 'r34', 'r35',\n",
       "       'c1', 'c2', 'c3', 'c4', 'o1', 'outside'],\n",
       "      dtype='object')"
      ]
     },
     "execution_count": 3,
     "metadata": {},
     "output_type": "execute_result"
    }
   ],
   "source": [
    "data.columns"
   ]
  },
  {
   "cell_type": "code",
   "execution_count": 4,
   "metadata": {},
   "outputs": [],
   "source": [
    "data_copy = copy.deepcopy(data)"
   ]
  },
  {
   "cell_type": "code",
   "execution_count": 5,
   "metadata": {},
   "outputs": [],
   "source": [
    "MAP = {\n",
    "    \"r1\":[\"r2\",\"r3\"],\n",
    "    \"r2\":[\"r1\",\"r4\"],\n",
    "    \"r3\":[\"r1\",\"r7\"],\n",
    "    \"r4\":[\"r2\",\"r8\"],\n",
    "    \"r5\":[\"r6\",\"r9\",\"c3\"],\n",
    "    \"r6\":[\"r5\",\"c3\"],\n",
    "    \"r7\":[\"r3\",\"c1\"],\n",
    "    \"r8\":[\"r4\",\"r9\"],\n",
    "    \"r9\":[\"r5\",\"r8\",\"r13\"],\n",
    "    \"r10\":[\"c3\"],\n",
    "    \"r11\":[\"c3\"],\n",
    "    \"r12\":[\"outside\",\"r22\"],\n",
    "    \"r13\":[\"r9\",\"r24\"],\n",
    "    \"r14\":[\"r24\"],\n",
    "    \"r15\":[\"c3\"],\n",
    "    \"r16\":[\"c3\"],\n",
    "    \"r17\":[\"c3\"],\n",
    "    \"r18\":[\"c3\"],\n",
    "    \"r19\":[\"c3\"],\n",
    "    \"r20\":[\"c3\"],\n",
    "    \"r21\":[\"c3\"],\n",
    "    \"r22\":[\"r12\",\"r25\"],\n",
    "    \"r23\":[\"r24\"],\n",
    "    \"r24\":[\"r13\",\"r14\",\"r23\"],\n",
    "    \"r25\":[\"r22\",\"r26\",\"c1\"],\n",
    "    \"r26\":[\"r25\",\"r27\"],\n",
    "    \"r27\":[\"r26\",\"r32\"],\n",
    "    \"r28\":[\"c4\"],\n",
    "    \"r29\":[\"c4\",\"r30\"],\n",
    "    \"r30\":[\"r29\"],\n",
    "    \"r31\":[\"r32\"],\n",
    "    \"r32\":[\"r27\",\"r31\",\"r33\"],\n",
    "    \"r33\":[\"r32\"],\n",
    "    \"r34\":[\"c2\"],\n",
    "    \"r35\":[\"c4\"],\n",
    "    \"c1\":[\"r7\",\"r25\",\"c2\"],\n",
    "    \"c2\":[\"c1\",\"r34\",\"c4\"],\n",
    "    \"c3\": [\"r5\",\"r6\",\"r10\",\"r11\",\"r15\",\"r16\",\"r17\",\"r18\",\"r19\",\"r20\",\"r21\",\"o1\"],\n",
    "    \"c4\":[\"r29\",\"c2\",\"r35\",\"r28\",\"o1\"],\n",
    "    \"o1\":[\"c3\",\"c4\"],\n",
    "    \"outside\":[\"r12\"]  \n",
    "}\n",
    "censor_dict =  {\n",
    "    \"r1\": \"us3\", #us for unreliable_sensor\n",
    "    \"r5\": \"rs2\" ,#rs for reliable_sensor\n",
    "    \"r8\": \"ds1\", #ds for door sensor\n",
    "    \"r9\": \"ds1\",\n",
    "    \"r16\": \"rs1\",\n",
    "    \"r24\" : \"us4\",\n",
    "    \"r25\" : \"rs3\",\n",
    "    \"r26\" : \"ds3\", \n",
    "    \"r27\" : \"ds3\",\n",
    "    \"r31\" : \"rs4\",\n",
    "    \"r35\" : \"ds4\",\n",
    "    \"c1\" : \"ds2\",\n",
    "    \"c2\" : \"ds2\",\n",
    "    \"c3\" : \"us2\",\n",
    "    \"c4\" : \"ds4\",\n",
    "    \"o1\" : \"us1\"\n",
    "}"
   ]
  },
  {
   "cell_type": "code",
   "execution_count": 6,
   "metadata": {},
   "outputs": [],
   "source": [
    "def n_step_neighbour(node,n,G):\n",
    "    neighbour_list = []\n",
    "    neighbour_list = neighbour_list + G[node]\n",
    "    while n > 1:\n",
    "        for new_node in neighbour_list:\n",
    "            neighbour_list = neighbour_list+ G[new_node]\n",
    "        n = n -1 \n",
    "    n_list = list(set(neighbour_list))\n",
    "    n_list.remove(node)\n",
    "    return(n_list)"
   ]
  },
  {
   "cell_type": "code",
   "execution_count": 7,
   "metadata": {},
   "outputs": [],
   "source": [
    "def generate_HMM(node,G,censors):\n",
    "    HMM = {}\n",
    "    curr_node = \"current_\" + node\n",
    "    node_neighbour = n_step_neighbour(node,2,G)\n",
    "    HMM = {i:[curr_node] for i in node_neighbour}\n",
    "    HMM[node] = [curr_node]\n",
    "    \n",
    "    related_censor = [censors.get(node)] + [censors.get(i) for i in node_neighbour]\n",
    "    related_censor = [x for x in related_censor  if x is not None]\n",
    "    \n",
    "    for i in related_censor:\n",
    "        if i[0] ==\"d\":\n",
    "            if sum([censor == i for censor in related_censor]) < 2:\n",
    "                related_censor.remove(i) #drop door censor when you only at one side\n",
    "    \n",
    "    \n",
    "    \n",
    "    HMM[curr_node] = list(set(related_censor))\n",
    "    for censor_evi in related_censor: \n",
    "        HMM[censor_evi] = []\n",
    "    \n",
    "    return(HMM)\n",
    "    \n",
    "    \n",
    "#def learn_prob(G,data):\n",
    "    "
   ]
  },
  {
   "cell_type": "code",
   "execution_count": 8,
   "metadata": {},
   "outputs": [
    {
     "data": {
      "text/plain": [
       "{'r7': ['current_r25'],\n",
       " 'r27': ['current_r25'],\n",
       " 'r26': ['current_r25'],\n",
       " 'c2': ['current_r25'],\n",
       " 'r22': ['current_r25'],\n",
       " 'r12': ['current_r25'],\n",
       " 'c1': ['current_r25'],\n",
       " 'r25': ['current_r25'],\n",
       " 'current_r25': ['ds2', 'rs3', 'ds3'],\n",
       " 'rs3': [],\n",
       " 'ds3': [],\n",
       " 'ds2': []}"
      ]
     },
     "execution_count": 8,
     "metadata": {},
     "output_type": "execute_result"
    }
   ],
   "source": [
    "generate_HMM('r25',MAP,censor_dict)\n"
   ]
  },
  {
   "cell_type": "code",
   "execution_count": 9,
   "metadata": {},
   "outputs": [],
   "source": [
    "def learn_tranisition(curr_node,pre_node,data):\n",
    "    new_df = pd.DataFrame()\n",
    "    new_df['curr'] = data[curr_node][1:]\n",
    "    new_df['pre'] = data[pre_node].shift(1)[:-1]\n",
    "    \n",
    "    \n",
    "    prob_ct = pd.crosstab(new_df['pre'] > 0 , new_df['curr'] > 0, normalize = \"index\")\n",
    "    \n",
    "    tran_table = odict()\n",
    "    \n",
    "    tran_table[(1,1)] = prob_ct.loc[True,True] # p(current = 1 | previous = 1)\n",
    "    tran_table[(1,0)] = prob_ct.loc[True,False]\n",
    "    tran_table[(0,1)] =prob_ct.loc[False,True]# p(current = 1 | previous = 0)\n",
    "    tran_table[(0,0)] =  prob_ct.loc[False,False]\n",
    "    \n",
    "    \n",
    "    return ({'dom': (pre_node,curr_node), 'table':tran_table})\n",
    "\n",
    "def learn_censor_prob(node, censor, data):\n",
    "    \n",
    "    prob_ct = pd.crosstab(data[node] > 0 , data[censor] == \"motion\", normalize = \"index\")\n",
    "    \n",
    "    tran_table = odict()\n",
    "    \n",
    "    tran_table[(1,1)] = prob_ct.loc[True,True] # p(current = 1 | previous = 1)\n",
    "    tran_table[(1,0)] = prob_ct.loc[True,False]\n",
    "    tran_table[(0,1)] =prob_ct.loc[False,True]# p(current = 1 | previous = 0)\n",
    "    tran_table[(0,0)] =  prob_ct.loc[False,False]\n",
    "    \n",
    "    return ({'dom': (node,censor), 'table':tran_table})"
   ]
  },
  {
   "cell_type": "code",
   "execution_count": 10,
   "metadata": {
    "scrolled": true
   },
   "outputs": [
    {
     "data": {
      "text/plain": [
       "{'dom': ('r25', 'r22'),\n",
       " 'table': OrderedDict([((1, 1), 0.10268378063010501),\n",
       "              ((1, 0), 0.897316219369895),\n",
       "              ((0, 1), 0.13933895009721323),\n",
       "              ((0, 0), 0.8606610499027868)])}"
      ]
     },
     "execution_count": 10,
     "metadata": {},
     "output_type": "execute_result"
    }
   ],
   "source": [
    "learn_tranisition('r22','r25',data)"
   ]
  },
  {
   "cell_type": "code",
   "execution_count": 11,
   "metadata": {
    "scrolled": false
   },
   "outputs": [
    {
     "data": {
      "text/plain": [
       "{'dom': ('r25', 'reliable_sensor3'),\n",
       " 'table': OrderedDict([((1, 1), 0.9568261376896149),\n",
       "              ((1, 0), 0.043173862310385065),\n",
       "              ((0, 1), 0.03367875647668394),\n",
       "              ((0, 0), 0.966321243523316)])}"
      ]
     },
     "execution_count": 11,
     "metadata": {},
     "output_type": "execute_result"
    }
   ],
   "source": [
    "learn_censor_prob('r25','reliable_sensor3',data)"
   ]
  },
  {
   "cell_type": "markdown",
   "metadata": {},
   "source": [
    "For one room:\n",
    "    1. generate the network \n",
    "    2. Assign the conditional prob (factor tables) \n",
    "    3. Find P(X=1| other nodes, e) and P(X=0| other nodes, e) by HMM algorithm;\n",
    "    4. Make decicions (threshold) \n",
    " \n",
    "Entire inference process: \n",
    "    1. calculate all the probabilities \n",
    "    2. For t = 1, ... T: \n",
    "        a. Do inference for each room\n",
    "        b. Store the decision \n",
    "        c. move to next timestep \n",
    "             \n",
    "  \n",
    "  "
   ]
  },
  {
   "cell_type": "code",
   "execution_count": 123,
   "metadata": {},
   "outputs": [],
   "source": [
    "# room 25 P(x= 1 | A) and P(x= 0|A)\n",
    "rooms_df = pd.read_csv(\"rooms_tran.csv\")\n",
    "censor_df= pd.read_csv(\"censor_prob.csv\")\n"
   ]
  },
  {
   "cell_type": "code",
   "execution_count": 14,
   "metadata": {},
   "outputs": [],
   "source": [
    "room = 'r25'\n",
    "room_prob = rooms_df.loc[rooms_tran['current_room'] == room, :]\n",
    "censor_prob = censor_df.loc[censor_tran['room'] == room, :] #extract relevant probabilities \n",
    "\n",
    "censor_prob_tem = censor_prob.set_index('censor')"
   ]
  },
  {
   "cell_type": "markdown",
   "metadata": {},
   "source": [
    "Next step\n",
    "1. reset index for room_prob and censor_prob\n",
    "2. extract the probabilities from the dataset\n",
    "3. compute the P(x=1) and P(x=0) with conditions\n",
    "4. log likelihood sum \n",
    "5. return the prob of room "
   ]
  },
  {
   "cell_type": "code",
   "execution_count": 29,
   "metadata": {},
   "outputs": [
    {
     "name": "stdout",
     "output_type": "stream",
     "text": [
      "0.634494575\n",
      "0.665639445\n"
     ]
    }
   ],
   "source": [
    "def prob_have_people(state,trans, room):\n",
    "    \"trans is the dictionary from rooms_tran/ censor trans; state is a dictionary with room as key and (p(0), p(1)) as value \"\n",
    "    prob_have = trans['(1, 1)']*state[room][1] +  trans[\"(1, 0)\"]*state[room][0]\n",
    "    return (prob_have)\n",
    "    \n",
    "def prob_no_people(state,trans, room):    \n",
    "    prob_no = trans[\"(0, 1)\"]*state[room][1] +  trans[\"(0, 0)\"]*state[room][0] \n",
    "    return (prob_no)\n",
    "\n",
    "\n",
    "state_tem = {'c1': (1.0,0)}\n",
    "trans_tem = room_prob_tem.loc['c1',:].to_dict()\n",
    "#print(trans_tem)\n",
    "\n",
    "print(prob_have_people(state_tem, trans_tem,\"c1\"))\n",
    "\n",
    "print(prob_no_people(state_tem, trans_tem,\"c1\"))"
   ]
  },
  {
   "cell_type": "code",
   "execution_count": 72,
   "metadata": {},
   "outputs": [],
   "source": [
    "def joint_prob_room(curr_room, room_prob_df, state):\n",
    "    list_have_people = []\n",
    "    list_no_people = []\n",
    "    room_prob_tem =room_prob_df.set_index('previous_room')\n",
    "    for rooms in room_prob_df['previous_room']:\n",
    "        room_dict = room_prob_tem.loc[rooms,:].to_dict()\n",
    "        have_people = prob_have_people(state,room_dict, rooms)\n",
    "        no_people =  prob_no_people(state,room_dict, rooms)\n",
    "        list_have_people.append(have_people)\n",
    "        list_no_people.append(no_people)\n",
    "    \n",
    "    prob_have = np.prod(list_have_people)\n",
    "    prob_no = np.prod(list_no_people)\n",
    "    \n",
    "    prob_have = prob_have/ (prob_have+ prob_no)\n",
    "    prob_no = 1- prob_have  \n",
    "    \n",
    "    return(( prob_no,prob_have))\n",
    "    "
   ]
  },
  {
   "cell_type": "code",
   "execution_count": 73,
   "metadata": {},
   "outputs": [
    {
     "name": "stdout",
     "output_type": "stream",
     "text": [
      "{'c1': (0.8, 0.2), 'r26': (0.8, 0.2), 'r7': (0.8, 0.2), 'c2': (0.8, 0.2), 'r22': (0.8, 0.2), 'r27': (0.8, 0.2), 'r12': (0.8, 0.2)}\n"
     ]
    },
    {
     "data": {
      "text/plain": [
       "(0.5492262332959444, 0.45077376670405556)"
      ]
     },
     "execution_count": 73,
     "metadata": {},
     "output_type": "execute_result"
    }
   ],
   "source": [
    "state_tem = {room : (0.8,0.2) for room in room_prob['previous_room'] }\n",
    "print(state_tem)\n",
    "\n",
    "probability_room = joint_prob_room(room, room_prob, state_tem)\n",
    "probability_room"
   ]
  },
  {
   "cell_type": "markdown",
   "metadata": {},
   "source": [
    "1. censors \n",
    "2. combine the prob\n",
    "3. iterate all rooms in one timestep \n",
    "4. all rooms all time \n"
   ]
  },
  {
   "cell_type": "code",
   "execution_count": 71,
   "metadata": {},
   "outputs": [],
   "source": [
    "def censor_cal(curr_room, censor_prob_df, state):\n",
    "    list_have_people = []\n",
    "    list_no_people = []\n",
    "    censor_prob_tem = censor_prob_df.set_index('censor')\n",
    "    for censors in censor_prob_df['censor']:\n",
    "        censor_dict = censor_prob_tem.loc[censors,:].to_dict()\n",
    "        have_people = prob_have_people(state, censor_dict, censors )\n",
    "        no_people = prob_no_people(state, censor_dict, censors )\n",
    "        list_have_people.append(have_people)\n",
    "        list_no_people.append(no_people)\n",
    "    \n",
    "    prob_have = np.prod(list_have_people)\n",
    "    prob_no = np.prod(list_no_people)\n",
    "\n",
    "    \n",
    "    prob_have = prob_have/ (prob_have+ prob_no)\n",
    "    prob_no = 1- prob_have  \n",
    "    return(( prob_no, prob_have))\n",
    "    "
   ]
  },
  {
   "cell_type": "code",
   "execution_count": 74,
   "metadata": {},
   "outputs": [
    {
     "data": {
      "text/plain": [
       "(0.03400160531769114, 0.9659983946823089)"
      ]
     },
     "execution_count": 74,
     "metadata": {},
     "output_type": "execute_result"
    }
   ],
   "source": [
    "state_temp = {'reliable_sensor3': (0.0,1.0)} \n",
    "probability_censor = censor_cal('r25',censor_prob,state_temp)\n",
    "probability_censor"
   ]
  },
  {
   "cell_type": "code",
   "execution_count": 75,
   "metadata": {},
   "outputs": [
    {
     "data": {
      "text/plain": [
       "1"
      ]
     },
     "execution_count": 75,
     "metadata": {},
     "output_type": "execute_result"
    }
   ],
   "source": [
    "def make_decision(prob_room, prob_censor, weight, theta):\n",
    "    people = 0\n",
    "    no_people = prob_room[0] * weight[0] * prob_censor[0] * weight[1]\n",
    "    have_people = prob_room[1] * weight[0] * prob_censor[1] * weight[1]\n",
    "    \n",
    "    prob_have = have_people/ (have_people+ no_people)\n",
    "    if prob_have > theta: \n",
    "        people = 1\n",
    "    return(people)\n",
    "    \n",
    "make_decision(probability_room, probability_censor, [1,9], 0.5)    "
   ]
  },
  {
   "cell_type": "markdown",
   "metadata": {},
   "source": [
    "Now let's do all rooms at one time stamp given previous time step"
   ]
  },
  {
   "cell_type": "code",
   "execution_count": 86,
   "metadata": {},
   "outputs": [],
   "source": [
    "data_sample = data.sample(1)\n",
    "censor_sample = data_sample.iloc[:,1:9]\n",
    "room_sample = data_sample.iloc[:,17:]"
   ]
  },
  {
   "cell_type": "code",
   "execution_count": 114,
   "metadata": {},
   "outputs": [
    {
     "data": {
      "text/plain": [
       "{'reliable_sensor1': (0, 1),\n",
       " 'reliable_sensor2': (1, 0),\n",
       " 'reliable_sensor3': (0, 1),\n",
       " 'reliable_sensor4': (1, 0),\n",
       " 'unreliable_sensor1': (0, 1),\n",
       " 'unreliable_sensor2': (1, 0),\n",
       " 'unreliable_sensor3': (0, 1),\n",
       " 'unreliable_sensor4': (1, 0)}"
      ]
     },
     "execution_count": 114,
     "metadata": {},
     "output_type": "execute_result"
    }
   ],
   "source": [
    "room_dict = room_sample.to_dict()\n",
    "room_state = {k: list(v.values())[0] for k, v in room_dict.items()}\n",
    "room_state2 = {k: (0,1) if v > 0 else (1,0) for k,v in room_state.items() }\n",
    "\n",
    "censor_dict = censor_sample.to_dict()\n",
    "censor_state = {k: list(v.values())[0] for k, v in censor_dict.items()}\n",
    "censor_state2 = {k: (0,1) if v == \"motion\" else (1,0) for k,v in censor_state.items() }\n",
    "censor_state2"
   ]
  },
  {
   "cell_type": "code",
   "execution_count": 117,
   "metadata": {},
   "outputs": [
    {
     "data": {
      "text/plain": [
       "['r1',\n",
       " 'r2',\n",
       " 'r3',\n",
       " 'r4',\n",
       " 'r5',\n",
       " 'r6',\n",
       " 'r7',\n",
       " 'r8',\n",
       " 'r9',\n",
       " 'r10',\n",
       " 'r11',\n",
       " 'r12',\n",
       " 'r13',\n",
       " 'r14',\n",
       " 'r15',\n",
       " 'r16',\n",
       " 'r17',\n",
       " 'r18',\n",
       " 'r19',\n",
       " 'r20',\n",
       " 'r21',\n",
       " 'r22',\n",
       " 'r23',\n",
       " 'r24',\n",
       " 'r25',\n",
       " 'r26',\n",
       " 'r27',\n",
       " 'r28',\n",
       " 'r29',\n",
       " 'r30',\n",
       " 'r31',\n",
       " 'r32',\n",
       " 'r33',\n",
       " 'r34',\n",
       " 'r35']"
      ]
     },
     "execution_count": 117,
     "metadata": {},
     "output_type": "execute_result"
    }
   ],
   "source": [
    "[room for room in list(room_state2.keys()) if room[0] == 'r']"
   ]
  },
  {
   "cell_type": "code",
   "execution_count": 138,
   "metadata": {},
   "outputs": [],
   "source": [
    "def all_room_predict(room_state, censors_state, room_prob_df, censor_prob_df, w, theta = 0.5):\n",
    "    room_predict_dict = {}\n",
    "    room_list = list(room_state.keys())\n",
    "    room_list = [room for room in room_list if room[0] == 'r']\n",
    "    for room in room_list: \n",
    "        room_prob = room_prob_df.loc[room_prob_df['current_room'] == room, :]\n",
    "        censor_prob =  censor_prob_df.loc[censor_prob_df['room'] == room, :]\n",
    "        probability_room = joint_prob_room(room, room_prob, room_state)\n",
    "        probability_censor = censor_cal(room,censor_prob,censors_state)\n",
    "        room_predict_dict[room] = make_decision(probability_room , probability_censor, w , theta)\n",
    "        \n",
    "    return room_predict_dict"
   ]
  },
  {
   "cell_type": "code",
   "execution_count": 139,
   "metadata": {},
   "outputs": [
    {
     "data": {
      "text/plain": [
       "{'r1': 1,\n",
       " 'r2': 0,\n",
       " 'r3': 1,\n",
       " 'r4': 1,\n",
       " 'r5': 0,\n",
       " 'r6': 1,\n",
       " 'r7': 1,\n",
       " 'r8': 0,\n",
       " 'r9': 0,\n",
       " 'r10': 1,\n",
       " 'r11': 1,\n",
       " 'r12': 1,\n",
       " 'r13': 0,\n",
       " 'r14': 1,\n",
       " 'r15': 1,\n",
       " 'r16': 1,\n",
       " 'r17': 0,\n",
       " 'r18': 0,\n",
       " 'r19': 1,\n",
       " 'r20': 0,\n",
       " 'r21': 1,\n",
       " 'r22': 0,\n",
       " 'r23': 0,\n",
       " 'r24': 0,\n",
       " 'r25': 1,\n",
       " 'r26': 1,\n",
       " 'r27': 1,\n",
       " 'r28': 1,\n",
       " 'r29': 0,\n",
       " 'r30': 1,\n",
       " 'r31': 0,\n",
       " 'r32': 0,\n",
       " 'r33': 1,\n",
       " 'r34': 1,\n",
       " 'r35': 1}"
      ]
     },
     "execution_count": 139,
     "metadata": {},
     "output_type": "execute_result"
    }
   ],
   "source": [
    "all_room_predict(room_state2,censor_state2, rooms_df,censor_df, [1,9]  )"
   ]
  },
  {
   "cell_type": "code",
   "execution_count": 106,
   "metadata": {},
   "outputs": [
    {
     "data": {
      "text/plain": [
       "2"
      ]
     },
     "execution_count": 106,
     "metadata": {},
     "output_type": "execute_result"
    }
   ],
   "source": [
    "list(room_dict['r1'].values())[0]"
   ]
  },
  {
   "cell_type": "code",
   "execution_count": 88,
   "metadata": {},
   "outputs": [
    {
     "data": {
      "text/html": [
       "<div>\n",
       "<style scoped>\n",
       "    .dataframe tbody tr th:only-of-type {\n",
       "        vertical-align: middle;\n",
       "    }\n",
       "\n",
       "    .dataframe tbody tr th {\n",
       "        vertical-align: top;\n",
       "    }\n",
       "\n",
       "    .dataframe thead th {\n",
       "        text-align: right;\n",
       "    }\n",
       "</style>\n",
       "<table border=\"1\" class=\"dataframe\">\n",
       "  <thead>\n",
       "    <tr style=\"text-align: right;\">\n",
       "      <th></th>\n",
       "      <th>reliable_sensor1</th>\n",
       "      <th>reliable_sensor2</th>\n",
       "      <th>reliable_sensor3</th>\n",
       "      <th>reliable_sensor4</th>\n",
       "      <th>unreliable_sensor1</th>\n",
       "      <th>unreliable_sensor2</th>\n",
       "      <th>unreliable_sensor3</th>\n",
       "      <th>unreliable_sensor4</th>\n",
       "    </tr>\n",
       "  </thead>\n",
       "  <tbody>\n",
       "    <tr>\n",
       "      <th>1211</th>\n",
       "      <td>motion</td>\n",
       "      <td>no motion</td>\n",
       "      <td>motion</td>\n",
       "      <td>no motion</td>\n",
       "      <td>motion</td>\n",
       "      <td>no motion</td>\n",
       "      <td>motion</td>\n",
       "      <td>no motion</td>\n",
       "    </tr>\n",
       "  </tbody>\n",
       "</table>\n",
       "</div>"
      ],
      "text/plain": [
       "     reliable_sensor1 reliable_sensor2 reliable_sensor3 reliable_sensor4  \\\n",
       "1211           motion        no motion           motion        no motion   \n",
       "\n",
       "     unreliable_sensor1 unreliable_sensor2 unreliable_sensor3  \\\n",
       "1211             motion          no motion             motion   \n",
       "\n",
       "     unreliable_sensor4  \n",
       "1211          no motion  "
      ]
     },
     "execution_count": 88,
     "metadata": {},
     "output_type": "execute_result"
    }
   ],
   "source": [
    "censor_sample"
   ]
  },
  {
   "cell_type": "code",
   "execution_count": 81,
   "metadata": {},
   "outputs": [
    {
     "data": {
      "text/plain": [
       "{'Unnamed: 0': {1051: 1051},\n",
       " 'reliable_sensor1': {1051: 'motion'},\n",
       " 'reliable_sensor2': {1051: 'no motion'},\n",
       " 'reliable_sensor3': {1051: 'no motion'},\n",
       " 'reliable_sensor4': {1051: 'motion'},\n",
       " 'unreliable_sensor1': {1051: 'motion'},\n",
       " 'unreliable_sensor2': {1051: 'motion'},\n",
       " 'unreliable_sensor3': {1051: 'motion'},\n",
       " 'unreliable_sensor4': {1051: 'motion'},\n",
       " 'robot1': {1051: \"('r1', 1)\"},\n",
       " 'robot2': {1051: \"('r35', 0)\"},\n",
       " 'door_sensor1': {1051: 0},\n",
       " 'door_sensor2': {1051: 0},\n",
       " 'door_sensor3': {1051: 0},\n",
       " 'door_sensor4': {1051: 0},\n",
       " 'time': {1051: '12:23:00'},\n",
       " 'electricity_price': {1051: 1.0624824690392611},\n",
       " 'r1': {1051: 1},\n",
       " 'r2': {1051: 0},\n",
       " 'r3': {1051: 1},\n",
       " 'r4': {1051: 0},\n",
       " 'r5': {1051: 0},\n",
       " 'r6': {1051: 0},\n",
       " 'r7': {1051: 3},\n",
       " 'r8': {1051: 0},\n",
       " 'r9': {1051: 0},\n",
       " 'r10': {1051: 3},\n",
       " 'r11': {1051: 3},\n",
       " 'r12': {1051: 0},\n",
       " 'r13': {1051: 0},\n",
       " 'r14': {1051: 0},\n",
       " 'r15': {1051: 1},\n",
       " 'r16': {1051: 1},\n",
       " 'r17': {1051: 0},\n",
       " 'r18': {1051: 0},\n",
       " 'r19': {1051: 1},\n",
       " 'r20': {1051: 0},\n",
       " 'r21': {1051: 1},\n",
       " 'r22': {1051: 0},\n",
       " 'r23': {1051: 0},\n",
       " 'r24': {1051: 0},\n",
       " 'r25': {1051: 0},\n",
       " 'r26': {1051: 0},\n",
       " 'r27': {1051: 0},\n",
       " 'r28': {1051: 0},\n",
       " 'r29': {1051: 0},\n",
       " 'r30': {1051: 0},\n",
       " 'r31': {1051: 1},\n",
       " 'r32': {1051: 0},\n",
       " 'r33': {1051: 0},\n",
       " 'r34': {1051: 1},\n",
       " 'r35': {1051: 0},\n",
       " 'c1': {1051: 1},\n",
       " 'c2': {1051: 1},\n",
       " 'c3': {1051: 1},\n",
       " 'c4': {1051: 1},\n",
       " 'o1': {1051: 2},\n",
       " 'outside': {1051: 0}}"
      ]
     },
     "execution_count": 81,
     "metadata": {},
     "output_type": "execute_result"
    }
   ],
   "source": [
    "state = {}"
   ]
  },
  {
   "cell_type": "code",
   "execution_count": null,
   "metadata": {},
   "outputs": [],
   "source": []
  },
  {
   "cell_type": "code",
   "execution_count": 79,
   "metadata": {},
   "outputs": [
    {
     "name": "stdout",
     "output_type": "stream",
     "text": [
      "{'Unnamed: 0': {193: 193}, 'previous_room': {193: 'c1'}, 'current_room': {193: 'r25'}, '(1, 1)': {193: 0.365505425}, '(1, 0)': {193: 0.634494575}, '(0, 1)': {193: 0.334360555}, '(0, 0)': {193: 0.665639445}}\n"
     ]
    },
    {
     "ename": "KeyError",
     "evalue": "'(1,1)'",
     "output_type": "error",
     "traceback": [
      "\u001b[1;31m---------------------------------------------------------------------------\u001b[0m",
      "\u001b[1;31mKeyError\u001b[0m                                  Traceback (most recent call last)",
      "\u001b[1;32m<ipython-input-79-0acc8eee3e04>\u001b[0m in \u001b[0;36m<module>\u001b[1;34m\u001b[0m\n\u001b[0;32m     13\u001b[0m \u001b[0mprint\u001b[0m\u001b[1;33m(\u001b[0m\u001b[0mtrans_tem\u001b[0m\u001b[1;33m)\u001b[0m\u001b[1;33m\u001b[0m\u001b[1;33m\u001b[0m\u001b[0m\n\u001b[0;32m     14\u001b[0m \u001b[1;33m\u001b[0m\u001b[0m\n\u001b[1;32m---> 15\u001b[1;33m \u001b[0mprint\u001b[0m\u001b[1;33m(\u001b[0m\u001b[0mprob_have_people\u001b[0m\u001b[1;33m(\u001b[0m\u001b[0mstate_tem\u001b[0m\u001b[1;33m,\u001b[0m \u001b[0mtrans_tem\u001b[0m\u001b[1;33m)\u001b[0m\u001b[1;33m)\u001b[0m\u001b[1;33m\u001b[0m\u001b[1;33m\u001b[0m\u001b[0m\n\u001b[0m",
      "\u001b[1;32m<ipython-input-79-0acc8eee3e04>\u001b[0m in \u001b[0;36mprob_have_people\u001b[1;34m(state, trans)\u001b[0m\n\u001b[0;32m      1\u001b[0m \u001b[1;32mdef\u001b[0m \u001b[0mprob_have_people\u001b[0m\u001b[1;33m(\u001b[0m\u001b[0mstate\u001b[0m\u001b[1;33m,\u001b[0m\u001b[0mtrans\u001b[0m\u001b[1;33m)\u001b[0m\u001b[1;33m:\u001b[0m\u001b[1;33m\u001b[0m\u001b[1;33m\u001b[0m\u001b[0m\n\u001b[0;32m      2\u001b[0m     \u001b[1;34m\"trans is the dictionary from rooms_tran; state is a dictionary with room as key and (p(0), p(1)) as value \"\u001b[0m\u001b[1;33m\u001b[0m\u001b[1;33m\u001b[0m\u001b[0m\n\u001b[1;32m----> 3\u001b[1;33m     \u001b[0mprob_have\u001b[0m \u001b[1;33m=\u001b[0m \u001b[0mtrans\u001b[0m\u001b[1;33m[\u001b[0m\u001b[1;34m'(1,1)'\u001b[0m\u001b[1;33m]\u001b[0m\u001b[1;33m*\u001b[0m\u001b[0mstate\u001b[0m\u001b[1;33m[\u001b[0m\u001b[1;36m1\u001b[0m\u001b[1;33m]\u001b[0m \u001b[1;33m+\u001b[0m  \u001b[0mtrans\u001b[0m\u001b[1;33m[\u001b[0m\u001b[1;34m\"(1,0)\"\u001b[0m\u001b[1;33m]\u001b[0m\u001b[1;33m*\u001b[0m\u001b[0mstate\u001b[0m\u001b[1;33m[\u001b[0m\u001b[1;36m0\u001b[0m\u001b[1;33m]\u001b[0m\u001b[1;33m\u001b[0m\u001b[1;33m\u001b[0m\u001b[0m\n\u001b[0m\u001b[0;32m      4\u001b[0m     \u001b[1;32mreturn\u001b[0m \u001b[1;33m(\u001b[0m\u001b[0mprob_have\u001b[0m\u001b[1;33m)\u001b[0m\u001b[1;33m\u001b[0m\u001b[1;33m\u001b[0m\u001b[0m\n\u001b[0;32m      5\u001b[0m \u001b[1;33m\u001b[0m\u001b[0m\n",
      "\u001b[1;31mKeyError\u001b[0m: '(1,1)'"
     ]
    }
   ],
   "source": [
    "def prob_have_people(state,trans):\n",
    "    \"trans is the dictionary from rooms_tran; state is a dictionary with room as key and (p(0), p(1)) as value \"\n",
    "    prob_have = trans['(1,1)']*state[1] +  trans[\"(1,0)\"]*state[0] \n",
    "    return (prob_have)\n",
    "    \n",
    "def prob_no_people(state,trans):    \n",
    "    prob_no = trans[\"(0,1)\"]*state[1] +  trans[\"(0,0)\"]*state[0] \n",
    "    return (prob_no)\n",
    "\n",
    "\n",
    "state_tem = {'c1': (1.0,0)}\n",
    "trans_tem = room_prob.loc[ room_prob['previous_room'] == 'c1',:].to_dict()\n",
    "print(trans_tem)\n",
    "\n",
    "print(prob_have_people(state_tem, trans_tem))"
   ]
  },
  {
   "cell_type": "code",
   "execution_count": 57,
   "metadata": {},
   "outputs": [
    {
     "data": {
      "text/plain": [
       "0.3655"
      ]
     },
     "execution_count": 57,
     "metadata": {},
     "output_type": "execute_result"
    }
   ],
   "source": [
    "for rooms in room_prob['previous_room']:\n",
    "    room_tran = room_prob.loc[ room_prob['previous_room'] == rooms,:].to_dict\n",
    "    room_state = current_state['rooms']"
   ]
  },
  {
   "cell_type": "code",
   "execution_count": 66,
   "metadata": {},
   "outputs": [],
   "source": [
    "\n",
    "\n",
    "\n"
   ]
  },
  {
   "cell_type": "code",
   "execution_count": null,
   "metadata": {},
   "outputs": [],
   "source": []
  },
  {
   "cell_type": "code",
   "execution_count": null,
   "metadata": {},
   "outputs": [],
   "source": [
    "\n",
    "    "
   ]
  },
  {
   "cell_type": "code",
   "execution_count": 65,
   "metadata": {},
   "outputs": [],
   "source": []
  },
  {
   "cell_type": "code",
   "execution_count": null,
   "metadata": {},
   "outputs": [],
   "source": [
    "def state_generator(room):\n",
    "    state_dict = {'dom': (room,),    \n",
    "                  'table': odict([\n",
    "        ((1,), 0.0),\n",
    "        ((0,), 1.0),\n",
    "    ])}\n",
    "    return (state_dict)\n",
    "state_info = []\n",
    "for rooms in room_prob['previous_room']:\n",
    "    state_info.append(state_generator(rooms))\n",
    "    \n",
    "state_info"
   ]
  },
  {
   "cell_type": "code",
   "execution_count": null,
   "metadata": {},
   "outputs": [],
   "source": [
    "def printFactor(f):\n",
    "    \"\"\"\n",
    "    argument \n",
    "    `f`, a factor to print on screen\n",
    "    \"\"\"\n",
    "    # Create a empty list that we will fill in with the probability table entries\n",
    "    table = list()\n",
    "    \n",
    "    # Iterate over all keys and probability values in the table\n",
    "    for key, item in f['table'].items():\n",
    "        # Convert the tuple to a list to be able to manipulate it\n",
    "        k = list(key)\n",
    "        # Append the probability value to the list with key values\n",
    "        k.append(item)\n",
    "        # Append an entire row to the table\n",
    "        table.append(k)\n",
    "    # dom is used as table header. We need it converted to list\n",
    "    dom = list(f['dom'])\n",
    "    # Append a 'Pr' to indicate the probabity column\n",
    "    dom.append('Pr')\n",
    "    print(tabulate(table,headers=dom,tablefmt='orgtbl'))\n",
    "\n",
    "def prob(factor, *entry):\n",
    "    \"\"\"\n",
    "    argument \n",
    "    `factor`, a dictionary of domain and probability values,\n",
    "    `entry`, a list of values, one for each variable in the same order as specified in the factor domain.\n",
    "    \n",
    "    Returns p(entry)\n",
    "    \"\"\"\n",
    "\n",
    "    return factor['table'][entry]     # insert your code here, 1 line   \n",
    "\n",
    "def join(f1, f2, outcomeSpace):\n",
    "    \"\"\"\n",
    "    argument \n",
    "    `f1`, first factor to be joined.\n",
    "    `f2`, second factor to be joined.\n",
    "    `outcomeSpace`, dictionary with the domain of each variable\n",
    "    \n",
    "    Returns a new factor with a join of f1 and f2\n",
    "    \"\"\"\n",
    "    \n",
    "    # First, we need to determine the domain of the new factor. It will be union of the domain in f1 and f2\n",
    "    # But it is important to eliminate the repetitions\n",
    "    common_vars = list(f1['dom']) + list(set(f2['dom']) - set(f1['dom']))\n",
    "    \n",
    "    # We will build a table from scratch, starting with an empty list. Later on, we will transform the list into a odict\n",
    "    table = list()\n",
    "    \n",
    "    # Here is where the magic happens. The product iterator will generate all combinations of varible values \n",
    "    # as specified in outcomeSpace. Therefore, it will naturally respect observed values\n",
    "    for entries in product(*[outcomeSpace[node] for node in common_vars]):\n",
    "        \n",
    "        # We need to map the entries to the domain of the factors f1 and f2\n",
    "        entryDict = dict(zip(common_vars, entries))\n",
    "        f1_entry = (entryDict[var] for var in f1['dom'])\n",
    "        f2_entry = (entryDict[var] for var in f2['dom'])\n",
    "        \n",
    "        # Insert your code here\n",
    "        p1 = prob(f1, *f1_entry)           # Use the fuction prob to calculate the probability in factor f1 for entry f1_entry \n",
    "        p2 = prob(f2, *f2_entry)           # Use the fuction prob to calculate the probability in factor f2 for entry f2_entry \n",
    "        \n",
    "        # Create a new table entry with the multiplication of p1 and p2\n",
    "        table.append((entries, p1 * p2))\n",
    "    return {'dom': tuple(common_vars), 'table': odict(table)}\n",
    "\n",
    "\n",
    "def marginalize(f, var, outcomeSpace):\n",
    "    \"\"\"\n",
    "    argument \n",
    "    `f`, factor to be marginalized.\n",
    "    `var`, variable to be summed out.\n",
    "    `outcomeSpace`, dictionary with the domain of each variable\n",
    "    \n",
    "    Returns a new factor f' with dom(f') = dom(f) - {var}\n",
    "    \"\"\"    \n",
    "    \n",
    "    # Let's make a copy of f domain and convert it to a list. We need a list to be able to modify its elements\n",
    "    new_dom = list(f['dom'])\n",
    "    \n",
    "    new_dom.remove(var)            # Remove var from the list new_dom by calling the method remove(). 1 line\n",
    "    table = list()                 # Create an empty list for table. We will fill in table from scratch. 1 line\n",
    "    for entries in product(*[outcomeSpace[node] for node in new_dom]):\n",
    "        s = 0;                     # Initialize the summation variable s. 1 line\n",
    "\n",
    "        # We need to iterate over all possible outcomes of the variable var\n",
    "        for val in outcomeSpace[var]:\n",
    "            # To modify the tuple entries, we will need to convert it to a list\n",
    "            entriesList = list(entries)\n",
    "            # We need to insert the value of var in the right position in entriesList\n",
    "            entriesList.insert(f['dom'].index(var), val)\n",
    "            \n",
    "            p = prob(f, *tuple(entriesList))     # Calculate the probability of factor f for entriesList. 1 line\n",
    "            s = s + p                            # Sum over all values of var by accumulating the sum in s. 1 line\n",
    "            \n",
    "        # Create a new table entry with the multiplication of p1 and p2\n",
    "        table.append((entries, s))\n",
    "    return {'dom': tuple(new_dom), 'table': odict(table)}"
   ]
  },
  {
   "cell_type": "code",
   "execution_count": null,
   "metadata": {},
   "outputs": [],
   "source": [
    "c1_trans = {\n",
    "    'dom': ('previous', 'current'), \n",
    "    'table': odict([\n",
    "        (((1,1),), 0.3655),\n",
    "        (((1,0),), 0.6345),\n",
    "        (((0,1),), 0.3344),\n",
    "        (((0,0),), 0.6656),\n",
    "    ])\n",
    "}\n",
    "state_current = {'dom': ('c1',), 'table': odict([((1,), 0.0), ((0,), 1.0)])}\n",
    "\n",
    "prob(c1_trans , (1,1))\n",
    "current_state = {'c1': (0,1)}\n"
   ]
  },
  {
   "cell_type": "code",
   "execution_count": null,
   "metadata": {},
   "outputs": [],
   "source": [
    "def prob_have_people(state,trans):\n",
    "    prob_have = prob(trans, (1,1))*state[1] +  prob(trans, (1,0))*state[0] \n",
    "    return (prob_have)\n",
    "\n",
    "def prob_no_people(state,trans):    \n",
    "    prob_no = prob(trans, (0,1))*prob(state,(1)) +  prob(trans, (0,0))*prob(state,(0))\n",
    "    return (prob_no)\n",
    "\n",
    "print(prob_have_people(state_current,c1_trans))\n",
    "print(prob_no_people(state_current,c1_trans))"
   ]
  }
 ],
 "metadata": {
  "kernelspec": {
   "display_name": "Python 3",
   "language": "python",
   "name": "python3"
  },
  "language_info": {
   "codemirror_mode": {
    "name": "ipython",
    "version": 3
   },
   "file_extension": ".py",
   "mimetype": "text/x-python",
   "name": "python",
   "nbconvert_exporter": "python",
   "pygments_lexer": "ipython3",
   "version": "3.7.6"
  }
 },
 "nbformat": 4,
 "nbformat_minor": 4
}
