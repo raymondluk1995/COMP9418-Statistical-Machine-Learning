{
 "cells": [
  {
   "cell_type": "markdown",
   "metadata": {},
   "source": [
    "# Probability Search"
   ]
  },
  {
   "cell_type": "code",
   "execution_count": 1,
   "metadata": {},
   "outputs": [],
   "source": [
    "from __future__ import division\n",
    "from __future__ import print_function\n",
    "\n",
    "# Allowed libraries \n",
    "import numpy as np\n",
    "import pandas as pd\n",
    "import scipy as sp\n",
    "import scipy.special\n",
    "import heapq as pq\n",
    "import matplotlib as mp\n",
    "import matplotlib.pyplot as plt\n",
    "import math\n",
    "from itertools import product, combinations\n",
    "from collections import OrderedDict as odict\n",
    "import collections\n",
    "from graphviz import Digraph, Graph\n",
    "from tabulate import tabulate\n",
    "import copy\n",
    "import sys\n",
    "import os\n",
    "import datetime\n",
    "import sklearn\n",
    "import ast\n",
    "import re"
   ]
  },
  {
   "cell_type": "code",
   "execution_count": 2,
   "metadata": {},
   "outputs": [],
   "source": [
    "data = pd.read_csv(\"data.csv\")"
   ]
  },
  {
   "cell_type": "code",
   "execution_count": 3,
   "metadata": {},
   "outputs": [
    {
     "data": {
      "text/html": [
       "<div>\n",
       "<style scoped>\n",
       "    .dataframe tbody tr th:only-of-type {\n",
       "        vertical-align: middle;\n",
       "    }\n",
       "\n",
       "    .dataframe tbody tr th {\n",
       "        vertical-align: top;\n",
       "    }\n",
       "\n",
       "    .dataframe thead th {\n",
       "        text-align: right;\n",
       "    }\n",
       "</style>\n",
       "<table border=\"1\" class=\"dataframe\">\n",
       "  <thead>\n",
       "    <tr style=\"text-align: right;\">\n",
       "      <th></th>\n",
       "      <th>Unnamed: 0</th>\n",
       "      <th>reliable_sensor1</th>\n",
       "      <th>reliable_sensor2</th>\n",
       "      <th>reliable_sensor3</th>\n",
       "      <th>reliable_sensor4</th>\n",
       "      <th>unreliable_sensor1</th>\n",
       "      <th>unreliable_sensor2</th>\n",
       "      <th>unreliable_sensor3</th>\n",
       "      <th>unreliable_sensor4</th>\n",
       "      <th>robot1</th>\n",
       "      <th>robot2</th>\n",
       "      <th>door_sensor1</th>\n",
       "      <th>door_sensor2</th>\n",
       "      <th>door_sensor3</th>\n",
       "      <th>door_sensor4</th>\n",
       "      <th>time</th>\n",
       "      <th>electricity_price</th>\n",
       "      <th>r1</th>\n",
       "      <th>r2</th>\n",
       "      <th>r3</th>\n",
       "      <th>r4</th>\n",
       "      <th>r5</th>\n",
       "      <th>r6</th>\n",
       "      <th>r7</th>\n",
       "      <th>r8</th>\n",
       "      <th>r9</th>\n",
       "      <th>r10</th>\n",
       "      <th>r11</th>\n",
       "      <th>r12</th>\n",
       "      <th>r13</th>\n",
       "      <th>r14</th>\n",
       "      <th>r15</th>\n",
       "      <th>r16</th>\n",
       "      <th>r17</th>\n",
       "      <th>r18</th>\n",
       "      <th>r19</th>\n",
       "      <th>r20</th>\n",
       "      <th>r21</th>\n",
       "      <th>r22</th>\n",
       "      <th>r23</th>\n",
       "      <th>r24</th>\n",
       "      <th>r25</th>\n",
       "      <th>r26</th>\n",
       "      <th>r27</th>\n",
       "      <th>r28</th>\n",
       "      <th>r29</th>\n",
       "      <th>r30</th>\n",
       "      <th>r31</th>\n",
       "      <th>r32</th>\n",
       "      <th>r33</th>\n",
       "      <th>r34</th>\n",
       "      <th>r35</th>\n",
       "      <th>c1</th>\n",
       "      <th>c2</th>\n",
       "      <th>c3</th>\n",
       "      <th>c4</th>\n",
       "      <th>o1</th>\n",
       "      <th>outside</th>\n",
       "    </tr>\n",
       "  </thead>\n",
       "  <tbody>\n",
       "    <tr>\n",
       "      <th>0</th>\n",
       "      <td>0</td>\n",
       "      <td>no motion</td>\n",
       "      <td>no motion</td>\n",
       "      <td>no motion</td>\n",
       "      <td>no motion</td>\n",
       "      <td>no motion</td>\n",
       "      <td>motion</td>\n",
       "      <td>no motion</td>\n",
       "      <td>no motion</td>\n",
       "      <td>('r1', 0)</td>\n",
       "      <td>('r19', 0)</td>\n",
       "      <td>0</td>\n",
       "      <td>0</td>\n",
       "      <td>0</td>\n",
       "      <td>0</td>\n",
       "      <td>08:00:15</td>\n",
       "      <td>0.9800</td>\n",
       "      <td>0</td>\n",
       "      <td>0</td>\n",
       "      <td>0</td>\n",
       "      <td>0</td>\n",
       "      <td>0</td>\n",
       "      <td>0</td>\n",
       "      <td>0</td>\n",
       "      <td>0</td>\n",
       "      <td>0</td>\n",
       "      <td>0</td>\n",
       "      <td>0</td>\n",
       "      <td>5</td>\n",
       "      <td>0</td>\n",
       "      <td>0</td>\n",
       "      <td>0</td>\n",
       "      <td>0</td>\n",
       "      <td>0</td>\n",
       "      <td>0</td>\n",
       "      <td>0</td>\n",
       "      <td>0</td>\n",
       "      <td>0</td>\n",
       "      <td>1</td>\n",
       "      <td>0</td>\n",
       "      <td>0</td>\n",
       "      <td>0</td>\n",
       "      <td>0</td>\n",
       "      <td>0</td>\n",
       "      <td>0</td>\n",
       "      <td>0</td>\n",
       "      <td>0</td>\n",
       "      <td>0</td>\n",
       "      <td>0</td>\n",
       "      <td>0</td>\n",
       "      <td>0</td>\n",
       "      <td>0</td>\n",
       "      <td>0</td>\n",
       "      <td>0</td>\n",
       "      <td>0</td>\n",
       "      <td>0</td>\n",
       "      <td>0</td>\n",
       "      <td>17</td>\n",
       "    </tr>\n",
       "    <tr>\n",
       "      <th>1</th>\n",
       "      <td>1</td>\n",
       "      <td>no motion</td>\n",
       "      <td>no motion</td>\n",
       "      <td>motion</td>\n",
       "      <td>no motion</td>\n",
       "      <td>no motion</td>\n",
       "      <td>no motion</td>\n",
       "      <td>no motion</td>\n",
       "      <td>no motion</td>\n",
       "      <td>('r1', 0)</td>\n",
       "      <td>('r19', 0)</td>\n",
       "      <td>0</td>\n",
       "      <td>0</td>\n",
       "      <td>0</td>\n",
       "      <td>0</td>\n",
       "      <td>08:00:30</td>\n",
       "      <td>0.9604</td>\n",
       "      <td>0</td>\n",
       "      <td>0</td>\n",
       "      <td>0</td>\n",
       "      <td>0</td>\n",
       "      <td>0</td>\n",
       "      <td>0</td>\n",
       "      <td>0</td>\n",
       "      <td>0</td>\n",
       "      <td>0</td>\n",
       "      <td>0</td>\n",
       "      <td>0</td>\n",
       "      <td>4</td>\n",
       "      <td>0</td>\n",
       "      <td>0</td>\n",
       "      <td>0</td>\n",
       "      <td>0</td>\n",
       "      <td>0</td>\n",
       "      <td>0</td>\n",
       "      <td>0</td>\n",
       "      <td>0</td>\n",
       "      <td>0</td>\n",
       "      <td>3</td>\n",
       "      <td>0</td>\n",
       "      <td>0</td>\n",
       "      <td>0</td>\n",
       "      <td>0</td>\n",
       "      <td>0</td>\n",
       "      <td>0</td>\n",
       "      <td>0</td>\n",
       "      <td>0</td>\n",
       "      <td>0</td>\n",
       "      <td>0</td>\n",
       "      <td>0</td>\n",
       "      <td>0</td>\n",
       "      <td>0</td>\n",
       "      <td>1</td>\n",
       "      <td>0</td>\n",
       "      <td>0</td>\n",
       "      <td>0</td>\n",
       "      <td>0</td>\n",
       "      <td>15</td>\n",
       "    </tr>\n",
       "    <tr>\n",
       "      <th>2</th>\n",
       "      <td>2</td>\n",
       "      <td>no motion</td>\n",
       "      <td>no motion</td>\n",
       "      <td>motion</td>\n",
       "      <td>no motion</td>\n",
       "      <td>no motion</td>\n",
       "      <td>no motion</td>\n",
       "      <td>no motion</td>\n",
       "      <td>no motion</td>\n",
       "      <td>('r1', 0)</td>\n",
       "      <td>('r19', 0)</td>\n",
       "      <td>0</td>\n",
       "      <td>0</td>\n",
       "      <td>0</td>\n",
       "      <td>0</td>\n",
       "      <td>08:00:45</td>\n",
       "      <td>0.9800</td>\n",
       "      <td>0</td>\n",
       "      <td>0</td>\n",
       "      <td>0</td>\n",
       "      <td>0</td>\n",
       "      <td>0</td>\n",
       "      <td>0</td>\n",
       "      <td>0</td>\n",
       "      <td>0</td>\n",
       "      <td>0</td>\n",
       "      <td>0</td>\n",
       "      <td>0</td>\n",
       "      <td>10</td>\n",
       "      <td>0</td>\n",
       "      <td>0</td>\n",
       "      <td>0</td>\n",
       "      <td>0</td>\n",
       "      <td>0</td>\n",
       "      <td>0</td>\n",
       "      <td>0</td>\n",
       "      <td>0</td>\n",
       "      <td>0</td>\n",
       "      <td>8</td>\n",
       "      <td>0</td>\n",
       "      <td>0</td>\n",
       "      <td>4</td>\n",
       "      <td>0</td>\n",
       "      <td>0</td>\n",
       "      <td>0</td>\n",
       "      <td>0</td>\n",
       "      <td>0</td>\n",
       "      <td>0</td>\n",
       "      <td>0</td>\n",
       "      <td>0</td>\n",
       "      <td>0</td>\n",
       "      <td>0</td>\n",
       "      <td>1</td>\n",
       "      <td>0</td>\n",
       "      <td>0</td>\n",
       "      <td>0</td>\n",
       "      <td>0</td>\n",
       "      <td>0</td>\n",
       "    </tr>\n",
       "    <tr>\n",
       "      <th>3</th>\n",
       "      <td>3</td>\n",
       "      <td>no motion</td>\n",
       "      <td>no motion</td>\n",
       "      <td>motion</td>\n",
       "      <td>no motion</td>\n",
       "      <td>no motion</td>\n",
       "      <td>motion</td>\n",
       "      <td>no motion</td>\n",
       "      <td>no motion</td>\n",
       "      <td>('r1', 0)</td>\n",
       "      <td>('c3', 0)</td>\n",
       "      <td>0</td>\n",
       "      <td>0</td>\n",
       "      <td>0</td>\n",
       "      <td>0</td>\n",
       "      <td>08:01:00</td>\n",
       "      <td>0.9604</td>\n",
       "      <td>0</td>\n",
       "      <td>0</td>\n",
       "      <td>0</td>\n",
       "      <td>0</td>\n",
       "      <td>0</td>\n",
       "      <td>0</td>\n",
       "      <td>0</td>\n",
       "      <td>0</td>\n",
       "      <td>0</td>\n",
       "      <td>0</td>\n",
       "      <td>0</td>\n",
       "      <td>0</td>\n",
       "      <td>0</td>\n",
       "      <td>0</td>\n",
       "      <td>0</td>\n",
       "      <td>0</td>\n",
       "      <td>0</td>\n",
       "      <td>0</td>\n",
       "      <td>0</td>\n",
       "      <td>0</td>\n",
       "      <td>0</td>\n",
       "      <td>10</td>\n",
       "      <td>0</td>\n",
       "      <td>0</td>\n",
       "      <td>8</td>\n",
       "      <td>0</td>\n",
       "      <td>0</td>\n",
       "      <td>0</td>\n",
       "      <td>0</td>\n",
       "      <td>0</td>\n",
       "      <td>0</td>\n",
       "      <td>0</td>\n",
       "      <td>0</td>\n",
       "      <td>0</td>\n",
       "      <td>0</td>\n",
       "      <td>5</td>\n",
       "      <td>0</td>\n",
       "      <td>0</td>\n",
       "      <td>0</td>\n",
       "      <td>0</td>\n",
       "      <td>0</td>\n",
       "    </tr>\n",
       "    <tr>\n",
       "      <th>4</th>\n",
       "      <td>4</td>\n",
       "      <td>no motion</td>\n",
       "      <td>no motion</td>\n",
       "      <td>motion</td>\n",
       "      <td>no motion</td>\n",
       "      <td>no motion</td>\n",
       "      <td>no motion</td>\n",
       "      <td>no motion</td>\n",
       "      <td>no motion</td>\n",
       "      <td>('r1', 0)</td>\n",
       "      <td>('r20', 0)</td>\n",
       "      <td>0</td>\n",
       "      <td>2</td>\n",
       "      <td>0</td>\n",
       "      <td>0</td>\n",
       "      <td>08:01:15</td>\n",
       "      <td>0.9604</td>\n",
       "      <td>0</td>\n",
       "      <td>0</td>\n",
       "      <td>0</td>\n",
       "      <td>0</td>\n",
       "      <td>0</td>\n",
       "      <td>0</td>\n",
       "      <td>0</td>\n",
       "      <td>0</td>\n",
       "      <td>0</td>\n",
       "      <td>0</td>\n",
       "      <td>0</td>\n",
       "      <td>0</td>\n",
       "      <td>0</td>\n",
       "      <td>0</td>\n",
       "      <td>0</td>\n",
       "      <td>0</td>\n",
       "      <td>0</td>\n",
       "      <td>0</td>\n",
       "      <td>0</td>\n",
       "      <td>0</td>\n",
       "      <td>0</td>\n",
       "      <td>2</td>\n",
       "      <td>0</td>\n",
       "      <td>0</td>\n",
       "      <td>8</td>\n",
       "      <td>0</td>\n",
       "      <td>0</td>\n",
       "      <td>0</td>\n",
       "      <td>0</td>\n",
       "      <td>0</td>\n",
       "      <td>0</td>\n",
       "      <td>0</td>\n",
       "      <td>0</td>\n",
       "      <td>0</td>\n",
       "      <td>0</td>\n",
       "      <td>11</td>\n",
       "      <td>2</td>\n",
       "      <td>0</td>\n",
       "      <td>0</td>\n",
       "      <td>0</td>\n",
       "      <td>0</td>\n",
       "    </tr>\n",
       "  </tbody>\n",
       "</table>\n",
       "</div>"
      ],
      "text/plain": [
       "   Unnamed: 0 reliable_sensor1 reliable_sensor2  ... c4 o1 outside\n",
       "0           0        no motion        no motion  ...  0  0      17\n",
       "1           1        no motion        no motion  ...  0  0      15\n",
       "2           2        no motion        no motion  ...  0  0       0\n",
       "3           3        no motion        no motion  ...  0  0       0\n",
       "4           4        no motion        no motion  ...  0  0       0\n",
       "\n",
       "[5 rows x 58 columns]"
      ]
     },
     "execution_count": 3,
     "metadata": {},
     "output_type": "execute_result"
    }
   ],
   "source": [
    "data.head(5)"
   ]
  },
  {
   "cell_type": "code",
   "execution_count": 7,
   "metadata": {},
   "outputs": [
    {
     "data": {
      "text/plain": [
       "0       08:00:15\n",
       "1       08:00:30\n",
       "2       08:00:45\n",
       "909     11:47:30\n",
       "910     11:47:45\n",
       "          ...   \n",
       "2318    17:39:45\n",
       "2319    17:40:00\n",
       "2320    17:40:15\n",
       "2321    17:40:30\n",
       "2322    17:40:45\n",
       "Name: time, Length: 179, dtype: object"
      ]
     },
     "execution_count": 7,
     "metadata": {},
     "output_type": "execute_result"
    }
   ],
   "source": [
    "r12_not_empty_idx = np.where(data['r12']>0)\n",
    "data.iloc[r12_not_empty_idx]['time']"
   ]
  },
  {
   "cell_type": "code",
   "execution_count": 1,
   "metadata": {},
   "outputs": [],
   "source": [
    "from graphviz import Graph\n"
   ]
  },
  {
   "cell_type": "markdown",
   "metadata": {},
   "source": [
    "## The correctness of Reliable Sensors"
   ]
  },
  {
   "cell_type": "markdown",
   "metadata": {},
   "source": [
    "Assumption: <br>\n",
    "1. In 15s, a person will not come in and leave that room from the same entrance.<br>\n",
    "2. One person can at most pass 2 areas (including rooms, outside etc.) in 15s. <br>\n",
    "3. Assume people never detour to their destinations. <br>"
   ]
  },
  {
   "cell_type": "code",
   "execution_count": 10,
   "metadata": {},
   "outputs": [
    {
     "data": {
      "text/plain": [
       "(2401, 58)"
      ]
     },
     "execution_count": 10,
     "metadata": {},
     "output_type": "execute_result"
    }
   ],
   "source": [
    "data.shape"
   ]
  },
  {
   "cell_type": "markdown",
   "metadata": {},
   "source": [
    "### Reliable Sensor 1"
   ]
  },
  {
   "cell_type": "code",
   "execution_count": 17,
   "metadata": {},
   "outputs": [
    {
     "name": "stdout",
     "output_type": "stream",
     "text": [
      "66\n",
      "The correction probability is  0.9725\n"
     ]
    }
   ],
   "source": [
    "wrong_count = 0\n",
    "for i in range(data.shape[0]):\n",
    "    if (i==0):\n",
    "        if (data.iloc[0]['r16']>0):\n",
    "            wrong_count +=1\n",
    "    if (i>0):\n",
    "        curr_row = data.iloc[i] \n",
    "        prev_row = data.iloc[i-1]\n",
    "        if(curr_row['r16']== 0 and prev_row['r16']== 0):\n",
    "            if (curr_row['reliable_sensor1']=='motion'):\n",
    "                wrong_count +=1 \n",
    "        elif(curr_row['r16']>0 and curr_row['reliable_sensor1']=='no motion'):\n",
    "            wrong_count +=1\n",
    "        elif(curr_row['r16']==0 and prev_row['r16']>0):\n",
    "            if (curr_row['reliable_sensor1']=='no motion'):\n",
    "                wrong_count +=1\n",
    "        \n",
    "print(wrong_count)\n",
    "print(\"The correction probability is \",round(1-wrong_count/data.shape[0],4))"
   ]
  },
  {
   "cell_type": "markdown",
   "metadata": {},
   "source": [
    "### Reliable Sensor 2"
   ]
  },
  {
   "cell_type": "markdown",
   "metadata": {},
   "source": [
    "Situations that pass room 5 without staying within 15s: <br>\n",
    "1. 9-5-6 <br>\n",
    "2. 6-5-9 <br>\n",
    "3. c3-5-9 <br>\n",
    "4. 9-5-c3 <br>\n"
   ]
  },
  {
   "cell_type": "code",
   "execution_count": 19,
   "metadata": {},
   "outputs": [
    {
     "name": "stdout",
     "output_type": "stream",
     "text": [
      "68\n",
      "The correction probability is  0.9717\n"
     ]
    }
   ],
   "source": [
    "wrong_count = 0\n",
    "for i in range(data.shape[0]):\n",
    "    if (i==0):\n",
    "        if (data.iloc[0]['r5']>0):\n",
    "            wrong_count +=1\n",
    "    if (i>0):\n",
    "        curr_row = data.iloc[i] \n",
    "        prev_row = data.iloc[i-1]\n",
    "        # if a person stays in r5, the motion should be true\n",
    "        if(curr_row['r5']>0 and curr_row['reliable_sensor2']=='no motion'):\n",
    "            wrong_count +=1\n",
    "        # if sensor detects motion, but r5 is empty, then there must be some one passes by\n",
    "        if (curr_row['reliable_sensor2']=='motion' and curr_row['r5']==0):\n",
    "            flag = True # flag indicating whether reliable sensor goes wrong\n",
    "            if (prev_row['r9']>0 and curr_row['r6']>0): # someone can go from r9 to r6\n",
    "                flag = False \n",
    "            elif (prev_row['r6']>0 and curr_row['r9']>0):\n",
    "                flag = False \n",
    "            elif (prev_row['c3']>0 and curr_row['r9']>0):\n",
    "                flag = False \n",
    "            elif (prev_row['r9']>0 and curr_row['c3']>0):\n",
    "                flag = False \n",
    "            \n",
    "            if (flag == True):\n",
    "                wrong_count += 1 \n",
    "        \n",
    "print(wrong_count)\n",
    "print(\"The correction probability is \",round(1-wrong_count/data.shape[0],4))"
   ]
  },
  {
   "cell_type": "markdown",
   "metadata": {},
   "source": [
    "### Reliable Sensor 3"
   ]
  },
  {
   "cell_type": "markdown",
   "metadata": {},
   "source": [
    "Situations that pass room 25 without staying within 15s: <br>\n",
    "1. 22-25-26 <br>\n",
    "2. 26-25-22 <br>\n",
    "3. c1-25-22 <br>\n",
    "4. 22-25-c1 <br>\n",
    "5. 26-25-c1 <br>\n",
    "6. c1-25-26 <br>"
   ]
  },
  {
   "cell_type": "code",
   "execution_count": 20,
   "metadata": {},
   "outputs": [
    {
     "name": "stdout",
     "output_type": "stream",
     "text": [
      "59\n",
      "The correction probability is  0.9754\n"
     ]
    }
   ],
   "source": [
    "wrong_count = 0\n",
    "for i in range(data.shape[0]):\n",
    "    if (i==0):\n",
    "        if (data.iloc[0]['r25']>0):\n",
    "            wrong_count +=1\n",
    "    if (i>0):\n",
    "        curr_row = data.iloc[i] \n",
    "        prev_row = data.iloc[i-1]\n",
    "        # if a person stays in r25, the motion should be true\n",
    "        if(curr_row['r25']>0 and curr_row['reliable_sensor3']=='no motion'):\n",
    "            wrong_count +=1\n",
    "        # if sensor detects motion, but r25 is empty, then there must be some one passes by\n",
    "        if (curr_row['reliable_sensor3']=='motion' and curr_row['r25']==0):\n",
    "            flag = True # flag indicating whether reliable sensor goes wrong\n",
    "            if (prev_row['r22']>0 and curr_row['r26']>0): \n",
    "                flag = False \n",
    "            elif (prev_row['r26']>0 and curr_row['r22']>0):\n",
    "                flag = False \n",
    "            elif (prev_row['c1']>0 and curr_row['r22']>0):\n",
    "                flag = False \n",
    "            elif (prev_row['r22']>0 and curr_row['c1']>0):\n",
    "                flag = False \n",
    "            elif (prev_row['r26']>0 and curr_row['c1']>0):\n",
    "                flag = False \n",
    "            elif (prev_row['c1']>0 and curr_row['r26']>0):\n",
    "                flag = False \n",
    "            \n",
    "            if (flag == True):\n",
    "                wrong_count += 1 \n",
    "        \n",
    "print(wrong_count)\n",
    "print(\"The correction probability is \",round(1-wrong_count/data.shape[0],4))"
   ]
  },
  {
   "cell_type": "markdown",
   "metadata": {},
   "source": [
    "### Reliable Sensor 4"
   ]
  },
  {
   "cell_type": "code",
   "execution_count": 4,
   "metadata": {},
   "outputs": [
    {
     "name": "stdout",
     "output_type": "stream",
     "text": [
      "68\n",
      "The correction probability is  0.9717\n"
     ]
    }
   ],
   "source": [
    "wrong_count = 0\n",
    "for i in range(data.shape[0]):\n",
    "    if (i==0):\n",
    "        if (data.iloc[0]['r31']>0):\n",
    "            wrong_count +=1\n",
    "    if (i>0):\n",
    "        curr_row = data.iloc[i] \n",
    "        prev_row = data.iloc[i-1]\n",
    "        # if a person stays in r25, the motion should be true\n",
    "        if(curr_row['r31']>0 and curr_row['reliable_sensor4']=='no motion'):\n",
    "            wrong_count +=1\n",
    "        # if sensor detects motion, but r25 is empty, then there must be some one passes by\n",
    "        if (curr_row['reliable_sensor4']=='motion' and curr_row['r31']==0):\n",
    "            wrong_count += 1 \n",
    "        \n",
    "print(wrong_count)\n",
    "print(\"The correction probability is \",round(1-wrong_count/data.shape[0],4))"
   ]
  },
  {
   "cell_type": "markdown",
   "metadata": {},
   "source": [
    "### Unreliable Sensor 1"
   ]
  },
  {
   "cell_type": "code",
   "execution_count": 5,
   "metadata": {},
   "outputs": [
    {
     "name": "stdout",
     "output_type": "stream",
     "text": [
      "164\n",
      "The correction probability is  0.9317\n"
     ]
    }
   ],
   "source": [
    "wrong_count = 0\n",
    "for i in range(data.shape[0]):\n",
    "    if (i==0):\n",
    "        if (data.iloc[0]['o1']>0):\n",
    "            wrong_count +=1\n",
    "    if (i>0):\n",
    "        curr_row = data.iloc[i] \n",
    "        prev_row = data.iloc[i-1]\n",
    "        # if a person stays in o1, the motion should be true\n",
    "        if(curr_row['o1']>0 and curr_row['unreliable_sensor1']=='no motion'):\n",
    "            wrong_count +=1\n",
    "        # if sensor detects motion, but o1 is empty, then there must be some one passes by\n",
    "        if (curr_row['unreliable_sensor1']=='motion' and curr_row['o1']==0):\n",
    "            flag = True # flag indicating whether reliable sensor goes wrong\n",
    "            if (prev_row['c3']>0 and curr_row['c4']>0): \n",
    "                flag = False \n",
    "            elif (prev_row['c4']>0 and curr_row['c3']>0):\n",
    "                flag = False \n",
    "            \n",
    "            if (flag == True):\n",
    "                wrong_count += 1 \n",
    "        \n",
    "print(wrong_count)\n",
    "print(\"The correction probability is \",round(1-wrong_count/data.shape[0],4))"
   ]
  },
  {
   "cell_type": "code",
   "execution_count": 5,
   "metadata": {},
   "outputs": [],
   "source": [
    "cand = ['r5','r6','r10','r11','r15','r16','r17','r18','r19','r20','r21','o1']"
   ]
  },
  {
   "cell_type": "markdown",
   "metadata": {},
   "source": [
    "### Unreliable Sensor 2"
   ]
  },
  {
   "cell_type": "code",
   "execution_count": 8,
   "metadata": {},
   "outputs": [
    {
     "name": "stdout",
     "output_type": "stream",
     "text": [
      "101\n",
      "The correction probability is  0.9579\n"
     ]
    }
   ],
   "source": [
    "wrong_count = 0\n",
    "for i in range(data.shape[0]):\n",
    "    if (i==0):\n",
    "        if (data.iloc[0]['c3']>0):\n",
    "            wrong_count +=1\n",
    "    if (i>0):\n",
    "        curr_row = data.iloc[i] \n",
    "        prev_row = data.iloc[i-1]\n",
    "        # if a person stays in o1, the motion should be true\n",
    "        if(curr_row['c3']>0 and curr_row['unreliable_sensor2']=='no motion'):\n",
    "            wrong_count +=1\n",
    "        # if sensor detects motion, but o1 is empty, then there must be some one passes by\n",
    "        if (curr_row['unreliable_sensor2']=='motion' and curr_row['c3']==0):\n",
    "            candidates = ['r5','r6','r10','r11','r15','r16','r17','r18','r19','r20','r21','o1']\n",
    "            flag = True # flag indicating whether reliable sensor goes wrong\n",
    "            for cand1 in candidates:\n",
    "                for cand2 in candidates:\n",
    "                    if (cand1==cand2):\n",
    "                        continue \n",
    "                    if (prev_row[cand1]>0 and curr_row[cand2]>0):\n",
    "                        flag = False\n",
    "                        break\n",
    "            \n",
    "            if (flag == True):\n",
    "                wrong_count += 1 \n",
    "        \n",
    "print(wrong_count)\n",
    "print(\"The correction probability is \",round(1-wrong_count/data.shape[0],4))"
   ]
  },
  {
   "cell_type": "markdown",
   "metadata": {},
   "source": [
    "### Unreliable Sensor 3"
   ]
  },
  {
   "cell_type": "code",
   "execution_count": 9,
   "metadata": {},
   "outputs": [
    {
     "name": "stdout",
     "output_type": "stream",
     "text": [
      "201\n",
      "The correction probability is  0.9163\n"
     ]
    }
   ],
   "source": [
    "wrong_count = 0\n",
    "for i in range(data.shape[0]):\n",
    "    if (i==0):\n",
    "        if (data.iloc[0]['r1']>0):\n",
    "            wrong_count +=1\n",
    "    if (i>0):\n",
    "        curr_row = data.iloc[i] \n",
    "        prev_row = data.iloc[i-1]\n",
    "        # if a person stays in o1, the motion should be true\n",
    "        if(curr_row['r1']>0 and curr_row['unreliable_sensor3']=='no motion'):\n",
    "            wrong_count +=1\n",
    "        # if sensor detects motion, but o1 is empty, then there must be some one passes by\n",
    "        if (curr_row['unreliable_sensor3']=='motion' and curr_row['r1']==0):\n",
    "            candidates = ['r2','r3']\n",
    "            flag = True # flag indicating whether reliable sensor goes wrong\n",
    "            for cand1 in candidates:\n",
    "                for cand2 in candidates:\n",
    "                    if (cand1==cand2):\n",
    "                        continue \n",
    "                    if (prev_row[cand1]>0 and curr_row[cand2]>0):\n",
    "                        flag = False\n",
    "                        break\n",
    "            \n",
    "            if (flag == True):\n",
    "                wrong_count += 1 \n",
    "        \n",
    "print(wrong_count)\n",
    "print(\"The correction probability is \",round(1-wrong_count/data.shape[0],4))"
   ]
  },
  {
   "cell_type": "markdown",
   "metadata": {},
   "source": [
    "### Unreliable Sensor 4"
   ]
  },
  {
   "cell_type": "code",
   "execution_count": 10,
   "metadata": {},
   "outputs": [
    {
     "name": "stdout",
     "output_type": "stream",
     "text": [
      "289\n",
      "The correction probability is  0.8796\n"
     ]
    }
   ],
   "source": [
    "wrong_count = 0\n",
    "for i in range(data.shape[0]):\n",
    "    if (i==0):\n",
    "        if (data.iloc[0]['r24']>0):\n",
    "            wrong_count +=1\n",
    "    if (i>0):\n",
    "        curr_row = data.iloc[i] \n",
    "        prev_row = data.iloc[i-1]\n",
    "        # if a person stays in o1, the motion should be true\n",
    "        if(curr_row['r24']>0 and curr_row['unreliable_sensor4']=='no motion'):\n",
    "            wrong_count +=1\n",
    "        # if sensor detects motion, but o1 is empty, then there must be some one passes by\n",
    "        if (curr_row['unreliable_sensor4']=='motion' and curr_row['r24']==0):\n",
    "            candidates = ['r23','r13','r14']\n",
    "            flag = True # flag indicating whether reliable sensor goes wrong\n",
    "            for cand1 in candidates:\n",
    "                for cand2 in candidates:\n",
    "                    if (cand1==cand2):\n",
    "                        continue \n",
    "                    if (prev_row[cand1]>0 and curr_row[cand2]>0):\n",
    "                        flag = False\n",
    "                        break\n",
    "            \n",
    "            if (flag == True):\n",
    "                wrong_count += 1 \n",
    "        \n",
    "print(wrong_count)\n",
    "print(\"The correction probability is \",round(1-wrong_count/data.shape[0],4))"
   ]
  },
  {
   "cell_type": "code",
   "execution_count": null,
   "metadata": {},
   "outputs": [],
   "source": []
  }
 ],
 "metadata": {
  "kernelspec": {
   "display_name": "Python 3",
   "language": "python",
   "name": "python3"
  },
  "language_info": {
   "codemirror_mode": {
    "name": "ipython",
    "version": 3
   },
   "file_extension": ".py",
   "mimetype": "text/x-python",
   "name": "python",
   "nbconvert_exporter": "python",
   "pygments_lexer": "ipython3",
   "version": "3.7.6"
  }
 },
 "nbformat": 4,
 "nbformat_minor": 4
}
