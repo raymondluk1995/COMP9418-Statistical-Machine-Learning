{
 "metadata": {
  "language_info": {
   "codemirror_mode": {
    "name": "ipython",
    "version": 3
   },
   "file_extension": ".py",
   "mimetype": "text/x-python",
   "name": "python",
   "nbconvert_exporter": "python",
   "pygments_lexer": "ipython3",
   "version": "3.7.3-final"
  },
  "orig_nbformat": 2,
  "kernelspec": {
   "name": "python3",
   "display_name": "Python 3"
  }
 },
 "nbformat": 4,
 "nbformat_minor": 2,
 "cells": [
  {
   "source": [
    "# Probability Search"
   ],
   "cell_type": "markdown",
   "metadata": {}
  },
  {
   "cell_type": "code",
   "execution_count": 1,
   "metadata": {},
   "outputs": [],
   "source": [
    "from __future__ import division\n",
    "from __future__ import print_function\n",
    "\n",
    "# Allowed libraries \n",
    "import numpy as np\n",
    "import pandas as pd\n",
    "import scipy as sp\n",
    "import scipy.special\n",
    "import heapq as pq\n",
    "import matplotlib as mp\n",
    "import matplotlib.pyplot as plt\n",
    "import math\n",
    "from itertools import product, combinations\n",
    "from collections import OrderedDict as odict\n",
    "import collections\n",
    "from graphviz import Digraph, Graph\n",
    "from tabulate import tabulate\n",
    "import copy\n",
    "import sys\n",
    "import os\n",
    "import datetime\n",
    "import sklearn\n",
    "import ast\n",
    "import re"
   ]
  },
  {
   "cell_type": "code",
   "execution_count": 3,
   "metadata": {},
   "outputs": [],
   "source": [
    "data = pd.read_csv(\"data.csv\")"
   ]
  },
  {
   "cell_type": "code",
   "execution_count": 4,
   "metadata": {},
   "outputs": [
    {
     "output_type": "execute_result",
     "data": {
      "text/plain": [
       "   Unnamed: 0 reliable_sensor1 reliable_sensor2 reliable_sensor3  \\\n",
       "0           0        no motion        no motion        no motion   \n",
       "1           1        no motion        no motion           motion   \n",
       "2           2        no motion        no motion           motion   \n",
       "3           3        no motion        no motion           motion   \n",
       "4           4        no motion        no motion           motion   \n",
       "\n",
       "  reliable_sensor4 unreliable_sensor1 unreliable_sensor2 unreliable_sensor3  \\\n",
       "0        no motion          no motion             motion          no motion   \n",
       "1        no motion          no motion          no motion          no motion   \n",
       "2        no motion          no motion          no motion          no motion   \n",
       "3        no motion          no motion             motion          no motion   \n",
       "4        no motion          no motion          no motion          no motion   \n",
       "\n",
       "  unreliable_sensor4     robot1  ... r32  r33  r34  r35  c1 c2  c3  c4  o1  \\\n",
       "0          no motion  ('r1', 0)  ...   0    0    0    0   0  0   0   0   0   \n",
       "1          no motion  ('r1', 0)  ...   0    0    0    0   1  0   0   0   0   \n",
       "2          no motion  ('r1', 0)  ...   0    0    0    0   1  0   0   0   0   \n",
       "3          no motion  ('r1', 0)  ...   0    0    0    0   5  0   0   0   0   \n",
       "4          no motion  ('r1', 0)  ...   0    0    0    0  11  2   0   0   0   \n",
       "\n",
       "   outside  \n",
       "0       17  \n",
       "1       15  \n",
       "2        0  \n",
       "3        0  \n",
       "4        0  \n",
       "\n",
       "[5 rows x 58 columns]"
      ],
      "text/html": "<div>\n<style scoped>\n    .dataframe tbody tr th:only-of-type {\n        vertical-align: middle;\n    }\n\n    .dataframe tbody tr th {\n        vertical-align: top;\n    }\n\n    .dataframe thead th {\n        text-align: right;\n    }\n</style>\n<table border=\"1\" class=\"dataframe\">\n  <thead>\n    <tr style=\"text-align: right;\">\n      <th></th>\n      <th>Unnamed: 0</th>\n      <th>reliable_sensor1</th>\n      <th>reliable_sensor2</th>\n      <th>reliable_sensor3</th>\n      <th>reliable_sensor4</th>\n      <th>unreliable_sensor1</th>\n      <th>unreliable_sensor2</th>\n      <th>unreliable_sensor3</th>\n      <th>unreliable_sensor4</th>\n      <th>robot1</th>\n      <th>...</th>\n      <th>r32</th>\n      <th>r33</th>\n      <th>r34</th>\n      <th>r35</th>\n      <th>c1</th>\n      <th>c2</th>\n      <th>c3</th>\n      <th>c4</th>\n      <th>o1</th>\n      <th>outside</th>\n    </tr>\n  </thead>\n  <tbody>\n    <tr>\n      <th>0</th>\n      <td>0</td>\n      <td>no motion</td>\n      <td>no motion</td>\n      <td>no motion</td>\n      <td>no motion</td>\n      <td>no motion</td>\n      <td>motion</td>\n      <td>no motion</td>\n      <td>no motion</td>\n      <td>('r1', 0)</td>\n      <td>...</td>\n      <td>0</td>\n      <td>0</td>\n      <td>0</td>\n      <td>0</td>\n      <td>0</td>\n      <td>0</td>\n      <td>0</td>\n      <td>0</td>\n      <td>0</td>\n      <td>17</td>\n    </tr>\n    <tr>\n      <th>1</th>\n      <td>1</td>\n      <td>no motion</td>\n      <td>no motion</td>\n      <td>motion</td>\n      <td>no motion</td>\n      <td>no motion</td>\n      <td>no motion</td>\n      <td>no motion</td>\n      <td>no motion</td>\n      <td>('r1', 0)</td>\n      <td>...</td>\n      <td>0</td>\n      <td>0</td>\n      <td>0</td>\n      <td>0</td>\n      <td>1</td>\n      <td>0</td>\n      <td>0</td>\n      <td>0</td>\n      <td>0</td>\n      <td>15</td>\n    </tr>\n    <tr>\n      <th>2</th>\n      <td>2</td>\n      <td>no motion</td>\n      <td>no motion</td>\n      <td>motion</td>\n      <td>no motion</td>\n      <td>no motion</td>\n      <td>no motion</td>\n      <td>no motion</td>\n      <td>no motion</td>\n      <td>('r1', 0)</td>\n      <td>...</td>\n      <td>0</td>\n      <td>0</td>\n      <td>0</td>\n      <td>0</td>\n      <td>1</td>\n      <td>0</td>\n      <td>0</td>\n      <td>0</td>\n      <td>0</td>\n      <td>0</td>\n    </tr>\n    <tr>\n      <th>3</th>\n      <td>3</td>\n      <td>no motion</td>\n      <td>no motion</td>\n      <td>motion</td>\n      <td>no motion</td>\n      <td>no motion</td>\n      <td>motion</td>\n      <td>no motion</td>\n      <td>no motion</td>\n      <td>('r1', 0)</td>\n      <td>...</td>\n      <td>0</td>\n      <td>0</td>\n      <td>0</td>\n      <td>0</td>\n      <td>5</td>\n      <td>0</td>\n      <td>0</td>\n      <td>0</td>\n      <td>0</td>\n      <td>0</td>\n    </tr>\n    <tr>\n      <th>4</th>\n      <td>4</td>\n      <td>no motion</td>\n      <td>no motion</td>\n      <td>motion</td>\n      <td>no motion</td>\n      <td>no motion</td>\n      <td>no motion</td>\n      <td>no motion</td>\n      <td>no motion</td>\n      <td>('r1', 0)</td>\n      <td>...</td>\n      <td>0</td>\n      <td>0</td>\n      <td>0</td>\n      <td>0</td>\n      <td>11</td>\n      <td>2</td>\n      <td>0</td>\n      <td>0</td>\n      <td>0</td>\n      <td>0</td>\n    </tr>\n  </tbody>\n</table>\n<p>5 rows × 58 columns</p>\n</div>"
     },
     "metadata": {},
     "execution_count": 4
    }
   ],
   "source": [
    "data.head(5)"
   ]
  },
  {
   "cell_type": "code",
   "execution_count": 7,
   "metadata": {},
   "outputs": [
    {
     "output_type": "execute_result",
     "data": {
      "text/plain": [
       "0       08:00:15\n",
       "1       08:00:30\n",
       "2       08:00:45\n",
       "909     11:47:30\n",
       "910     11:47:45\n",
       "          ...   \n",
       "2318    17:39:45\n",
       "2319    17:40:00\n",
       "2320    17:40:15\n",
       "2321    17:40:30\n",
       "2322    17:40:45\n",
       "Name: time, Length: 179, dtype: object"
      ]
     },
     "metadata": {},
     "execution_count": 7
    }
   ],
   "source": [
    "r12_not_empty_idx = np.where(data['r12']>0)\n",
    "data.iloc[r12_not_empty_idx]['time']"
   ]
  },
  {
   "cell_type": "code",
   "execution_count": 1,
   "metadata": {},
   "outputs": [],
   "source": [
    "from graphviz import Graph\n"
   ]
  },
  {
   "source": [
    "## The correctness of Reliable Sensors"
   ],
   "cell_type": "markdown",
   "metadata": {}
  },
  {
   "source": [
    "Assumption: <br>\n",
    "1. In 15s, a person will not come in and leave that room from the same entrance.<br>\n",
    "2. One person can at most pass 2 areas (including rooms, outside etc.) in 15s."
   ],
   "cell_type": "markdown",
   "metadata": {}
  },
  {
   "cell_type": "code",
   "execution_count": 10,
   "metadata": {},
   "outputs": [
    {
     "output_type": "execute_result",
     "data": {
      "text/plain": [
       "(2401, 58)"
      ]
     },
     "metadata": {},
     "execution_count": 10
    }
   ],
   "source": [
    "data.shape"
   ]
  },
  {
   "source": [
    "### Reliable Sensor 1"
   ],
   "cell_type": "markdown",
   "metadata": {}
  },
  {
   "cell_type": "code",
   "execution_count": 9,
   "metadata": {},
   "outputs": [
    {
     "output_type": "stream",
     "name": "stdout",
     "text": [
      "32\n"
     ]
    }
   ],
   "source": [
    "wrong_count = 0\n",
    "for i in range(data.shape[0]):\n",
    "    if (i==0):\n",
    "        if (data.iloc[0]['r16']>0):\n",
    "            wrong_count +=1\n",
    "    if (i>0):\n",
    "        curr_row = data.iloc[i] \n",
    "        prev_row = data.iloc[i-1]\n",
    "        if(curr_row['r16']== 0 and prev_row['r16']== 0):\n",
    "            if (curr_row['reliable_sensor1']=='motion'):\n",
    "                wrong_count +=1 \n",
    "print(wrong_count)"
   ]
  },
  {
   "cell_type": "code",
   "execution_count": 5,
   "metadata": {},
   "outputs": [],
   "source": []
  },
  {
   "cell_type": "code",
   "execution_count": null,
   "metadata": {},
   "outputs": [],
   "source": []
  }
 ]
}